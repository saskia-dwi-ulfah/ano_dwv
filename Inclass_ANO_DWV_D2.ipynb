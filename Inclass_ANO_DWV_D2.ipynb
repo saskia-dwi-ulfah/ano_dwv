{
 "cells": [
  {
   "cell_type": "markdown",
   "metadata": {},
   "source": [
    "# Inclass Material: Data Wrangling and Visualization"
   ]
  },
  {
   "cell_type": "markdown",
   "metadata": {},
   "source": [
    "* _This notebook was made based on main materials_: `3_Data_Wrangling_and_Visualization.ipynb`.\n",
    "* _Version: Apollo - December 2024_.\n",
    "* _Instructor_: Saskia Dwi Ulfah.\n",
    "\n",
    "## Training Objectives\n",
    "\n",
    "- _Python Reproducible Environment_\n",
    "- _Working with Multi-Index DataFrames_\n",
    "- _Reshaping DataFrame_\n",
    "- _Visual Data Exploratory_\n",
    "- _Using Group By Effectively_\n",
    "\n",
    "----"
   ]
  },
  {
   "cell_type": "markdown",
   "metadata": {},
   "source": [
    "***START OF DAY 1***"
   ]
  },
  {
   "cell_type": "markdown",
   "metadata": {},
   "source": [
    "# Refresher: P4DA (Week 1) and EDA (Week 2)"
   ]
  },
  {
   "cell_type": "markdown",
   "metadata": {},
   "source": [
    "2 minggu sebelumnya, kita sudah mempelajari fungsi-fungsi untuk melakukan inspeksi awal dan analisis lanjut pada data:\n",
    "\n",
    "**_Python for Data Analyst: Data Inspection_**\n",
    "- `.head()` dan `.tail()`: menampilkan data teratas dan data terbawah.\n",
    "- `.describe()`: menampilkan nilai statistik pada data.\n",
    "- `.shape` and `.size`: menampilkan ukuran data.\n",
    "- `.axes`: menampilkan nama baris/indeks dan kolom.\n",
    "- `.dtypes`: menampilkan tipe data setiap kolom.\n",
    "- `.loc` dan `.iloc`: melakukan _indexing/subsetting/slicing_.\n",
    "\n",
    "**_Exploraroty Data Analysis: Diagnostic and Exploratory_**\n",
    "- _Tables_.\n",
    "- _Cross-Tables and Aggregates_.\n",
    "- _Using `aggfunc` for Aggregate Functions_.\n",
    "- _Pivot Tables_.\n",
    "- _Working with DateTime_.\n",
    "- _Working with Categorical Data_.\n",
    "- _Duplicates and Missing Value Treatment_."
   ]
  },
  {
   "cell_type": "markdown",
   "metadata": {},
   "source": [
    "---"
   ]
  },
  {
   "cell_type": "markdown",
   "metadata": {},
   "source": [
    "# Python Reproducible Environment"
   ]
  },
  {
   "cell_type": "markdown",
   "metadata": {},
   "source": [
    "Pada awal pembelajaran P4DA, kita sudah berkenalan dengan istilah ***virtual environment***.\n",
    "\n",
    "> ***Virtual environment*** adalah *environment* terisolasi yang memungkinkan setiap *environment* memiliki instalasi dan versi *package* yang khusus dan berbeda. "
   ]
  },
  {
   "cell_type": "markdown",
   "metadata": {},
   "source": [
    "Kita bisa menggunakan *virtual environment* saat memiliki banyak projek di mana setiap projek membutuhkan *package* dengan versi yang spesifik. Dengan menggunakan *virtual environment*, kita bisa menjalankan berbagai macam projek pada satu *device* yang sama tanpa perlu khawatir akan adanya permasalahan yang timbul karena perbedaan versi *package*."
   ]
  },
  {
   "cell_type": "markdown",
   "metadata": {},
   "source": [
    "## ✨Exporting Requirements✨"
   ]
  },
  {
   "cell_type": "markdown",
   "metadata": {},
   "source": [
    "Mbak Dwi adalah seorang *lead data scientist* di sebuah *company*. Mbak Dwi memulai sebuah projek analisis perbandingan saham di *device*-nya dan membuat *virtual environment* khusus untuk projek tersebut. Ia juga meng-*install* berbagai *package* yang digunakan untuk projek tersebut.\n",
    "\n",
    "> ❓ Mbak Dwi ingin membagikan proyek analisis data tersebut kepada Mas Arkana, anggota timnya. Bagaimana cara projek tersebut dapat berjalan di *device* Mas Arkana tanpa menimbulkan *error*?\n",
    "\n",
    "> 💡 Mbak Dwi dapat membuat *file* ✨`requirements.txt`✨ yang berisikan *package* yang sudah ada di-*environment*-nya dan menyerahkan *file* tersebut kepada Mas Arkana.\n",
    "\n",
    "Lihat pada folder `/material_3_dwv_main`, Anda akan menemukan *file* `requirements.txt` yang isinya seperti ini:\n",
    "```\n",
    "matplotlib==3.7.1\n",
    "numpy==1.24.2\n",
    "pandas==2.0.0\n",
    "yfinance==0.2.18\n",
    "...\n",
    "```\n",
    "Untuk membuat `requirements.txt`, Mbak Dwi akan melakukan langkah-langkah berikut:\n",
    "\n",
    "1. Buka terminal.\n",
    "\n",
    "2. Aktifkan *environment*.\n",
    "    ```\n",
    "    conda activate <ENV_NAME>\n",
    "    ```\n",
    "\n",
    "    Apabila belum ada, maka perlu membuat *environment* baru:\n",
    "    ```\n",
    "    conda create -n <ENV_NAME> python=<PYTHON_VERSION>\n",
    "    ```\n",
    "\n",
    "3. Navigasikan *path* ke *folder* tempat di mana *file* `requirements.txt` ingin disimpan.\n",
    "    ```\n",
    "    cd <PATH_TO_REQUIREMENTS_FOLDER>\n",
    "    ```\n",
    "\n",
    "4. *Export environment*: membuat daftar *packages* beserta versinya.\n",
    "    ```\n",
    "    pip list --format=freeze > requirements.txt\n",
    "    ```\n",
    "\n",
    "    >💡 **Note**: Anda dapat menyimpan *file* dengan nama lain. Namun sebagai **konvensi**, biasa digunakan penamaan `requirements.txt`."
   ]
  },
  {
   "cell_type": "markdown",
   "metadata": {},
   "source": [
    "## ✨Importing Requirements✨"
   ]
  },
  {
   "cell_type": "markdown",
   "metadata": {},
   "source": [
    "Setelah mendapatkan *file* `requirements.txt` dari Mbak Dwi, Mas Arkana dapat melakukan langkah berikut.\n",
    "\n",
    "1. Buka terminal.\n",
    "\n",
    "2. Aktifkan *environment* yang ingin digunakan.\n",
    "    ```\n",
    "    conda activate <ENV_NAME>\n",
    "    ```\n",
    "\n",
    "    Apabila belum ada, maka perlu membuat *environment* baru:\n",
    "    ```\n",
    "    conda create -n <ENV_NAME> python=<PYTHON_VERSION>\n",
    "    ```\n",
    "\n",
    "3. Navigasikan *path* ke *folder* di mana *file* `requirements.txt` berada.\n",
    "    ```\n",
    "    cd <PATH_TO_REQUIREMENTS>\n",
    "    ```\n",
    "\n",
    "4. Instalasi *package* yang terdapat pada *requirements.txt*.\n",
    "    ```\n",
    "    pip install -r requirements.txt\n",
    "    ```"
   ]
  },
  {
   "cell_type": "markdown",
   "metadata": {},
   "source": [
    "---"
   ]
  },
  {
   "cell_type": "markdown",
   "metadata": {},
   "source": [
    "# Working with Multi-Index DataFrames"
   ]
  },
  {
   "cell_type": "markdown",
   "metadata": {},
   "source": [
    "Pada pembelajaran kali ini, kita akan menggunakan *library* `yfinance` untuk mengakses data saham yang tersedia pada [Yahoo! Finance](https://finance.yahoo.com/). Penarikan data menggunakan _library_ `yfinance` membutuhkan koneksi internet.\n",
    "\n",
    "> 📌 Dokumentasi *library* `yfinance`: https://pypi.org/project/yfinance/"
   ]
  },
  {
   "cell_type": "code",
   "execution_count": 1,
   "metadata": {},
   "outputs": [],
   "source": [
    "# package untuk manipulasi data\n",
    "import pandas as pd\n",
    "# package untuk import data\n",
    "import yfinance as data\n",
    "# package untuk visualisasi data\n",
    "import matplotlib.pyplot as plt\n",
    "\n",
    "# atur format angka untuk float\n",
    "pd.set_option('display.float_format', '{:,.3f}'.format)"
   ]
  },
  {
   "cell_type": "code",
   "execution_count": 2,
   "metadata": {},
   "outputs": [
    {
     "name": "stderr",
     "output_type": "stream",
     "text": [
      "[*********************100%%**********************]  3 of 3 completed\n"
     ]
    },
    {
     "data": {
      "text/html": [
       "<div>\n",
       "<style scoped>\n",
       "    .dataframe tbody tr th:only-of-type {\n",
       "        vertical-align: middle;\n",
       "    }\n",
       "\n",
       "    .dataframe tbody tr th {\n",
       "        vertical-align: top;\n",
       "    }\n",
       "\n",
       "    .dataframe thead tr th {\n",
       "        text-align: left;\n",
       "    }\n",
       "\n",
       "    .dataframe thead tr:last-of-type th {\n",
       "        text-align: right;\n",
       "    }\n",
       "</style>\n",
       "<table border=\"1\" class=\"dataframe\">\n",
       "  <thead>\n",
       "    <tr>\n",
       "      <th>Attributes</th>\n",
       "      <th colspan=\"3\" halign=\"left\">Adj Close</th>\n",
       "      <th colspan=\"3\" halign=\"left\">Close</th>\n",
       "      <th colspan=\"3\" halign=\"left\">High</th>\n",
       "      <th colspan=\"3\" halign=\"left\">Low</th>\n",
       "      <th colspan=\"3\" halign=\"left\">Open</th>\n",
       "      <th colspan=\"3\" halign=\"left\">Volume</th>\n",
       "    </tr>\n",
       "    <tr>\n",
       "      <th>Symbols</th>\n",
       "      <th>ADRO.JK</th>\n",
       "      <th>BBRI.JK</th>\n",
       "      <th>TLKM.JK</th>\n",
       "      <th>ADRO.JK</th>\n",
       "      <th>BBRI.JK</th>\n",
       "      <th>TLKM.JK</th>\n",
       "      <th>ADRO.JK</th>\n",
       "      <th>BBRI.JK</th>\n",
       "      <th>TLKM.JK</th>\n",
       "      <th>ADRO.JK</th>\n",
       "      <th>BBRI.JK</th>\n",
       "      <th>TLKM.JK</th>\n",
       "      <th>ADRO.JK</th>\n",
       "      <th>BBRI.JK</th>\n",
       "      <th>TLKM.JK</th>\n",
       "      <th>ADRO.JK</th>\n",
       "      <th>BBRI.JK</th>\n",
       "      <th>TLKM.JK</th>\n",
       "    </tr>\n",
       "    <tr>\n",
       "      <th>Date</th>\n",
       "      <th></th>\n",
       "      <th></th>\n",
       "      <th></th>\n",
       "      <th></th>\n",
       "      <th></th>\n",
       "      <th></th>\n",
       "      <th></th>\n",
       "      <th></th>\n",
       "      <th></th>\n",
       "      <th></th>\n",
       "      <th></th>\n",
       "      <th></th>\n",
       "      <th></th>\n",
       "      <th></th>\n",
       "      <th></th>\n",
       "      <th></th>\n",
       "      <th></th>\n",
       "      <th></th>\n",
       "    </tr>\n",
       "  </thead>\n",
       "  <tbody>\n",
       "    <tr>\n",
       "      <th>2018-01-01</th>\n",
       "      <td>587.300</td>\n",
       "      <td>2,503.332</td>\n",
       "      <td>3,383.594</td>\n",
       "      <td>1,860.000</td>\n",
       "      <td>3,309.034</td>\n",
       "      <td>4,440.000</td>\n",
       "      <td>1,860.000</td>\n",
       "      <td>3,309.034</td>\n",
       "      <td>4,440.000</td>\n",
       "      <td>1,860.000</td>\n",
       "      <td>3,309.034</td>\n",
       "      <td>4,440.000</td>\n",
       "      <td>1,860.000</td>\n",
       "      <td>3,309.034</td>\n",
       "      <td>4,440.000</td>\n",
       "      <td>0.000</td>\n",
       "      <td>0</td>\n",
       "      <td>0.000</td>\n",
       "    </tr>\n",
       "    <tr>\n",
       "      <th>2018-01-02</th>\n",
       "      <td>593.615</td>\n",
       "      <td>2,496.455</td>\n",
       "      <td>3,360.732</td>\n",
       "      <td>1,880.000</td>\n",
       "      <td>3,299.943</td>\n",
       "      <td>4,410.000</td>\n",
       "      <td>1,900.000</td>\n",
       "      <td>3,381.760</td>\n",
       "      <td>4,460.000</td>\n",
       "      <td>1,865.000</td>\n",
       "      <td>3,281.761</td>\n",
       "      <td>4,380.000</td>\n",
       "      <td>1,865.000</td>\n",
       "      <td>3,354.488</td>\n",
       "      <td>4,430.000</td>\n",
       "      <td>26,045,000.000</td>\n",
       "      <td>100241541</td>\n",
       "      <td>66,075,600.000</td>\n",
       "    </tr>\n",
       "    <tr>\n",
       "      <th>2018-01-03</th>\n",
       "      <td>577.828</td>\n",
       "      <td>2,482.700</td>\n",
       "      <td>3,223.559</td>\n",
       "      <td>1,830.000</td>\n",
       "      <td>3,281.761</td>\n",
       "      <td>4,230.000</td>\n",
       "      <td>1,890.000</td>\n",
       "      <td>3,299.943</td>\n",
       "      <td>4,380.000</td>\n",
       "      <td>1,810.000</td>\n",
       "      <td>3,236.308</td>\n",
       "      <td>4,200.000</td>\n",
       "      <td>1,890.000</td>\n",
       "      <td>3,299.943</td>\n",
       "      <td>4,380.000</td>\n",
       "      <td>35,595,000.000</td>\n",
       "      <td>77164902</td>\n",
       "      <td>129,205,000.000</td>\n",
       "    </tr>\n",
       "    <tr>\n",
       "      <th>2018-01-04</th>\n",
       "      <td>604.667</td>\n",
       "      <td>2,441.437</td>\n",
       "      <td>3,215.939</td>\n",
       "      <td>1,915.000</td>\n",
       "      <td>3,227.217</td>\n",
       "      <td>4,220.000</td>\n",
       "      <td>1,935.000</td>\n",
       "      <td>3,281.761</td>\n",
       "      <td>4,250.000</td>\n",
       "      <td>1,850.000</td>\n",
       "      <td>3,145.400</td>\n",
       "      <td>4,190.000</td>\n",
       "      <td>1,860.000</td>\n",
       "      <td>3,281.761</td>\n",
       "      <td>4,230.000</td>\n",
       "      <td>81,191,500.000</td>\n",
       "      <td>172049901</td>\n",
       "      <td>77,953,300.000</td>\n",
       "    </tr>\n",
       "    <tr>\n",
       "      <th>2018-01-05</th>\n",
       "      <td>628.348</td>\n",
       "      <td>2,468.946</td>\n",
       "      <td>3,261.663</td>\n",
       "      <td>1,990.000</td>\n",
       "      <td>3,263.580</td>\n",
       "      <td>4,280.000</td>\n",
       "      <td>1,990.000</td>\n",
       "      <td>3,263.580</td>\n",
       "      <td>4,280.000</td>\n",
       "      <td>1,935.000</td>\n",
       "      <td>3,199.945</td>\n",
       "      <td>4,200.000</td>\n",
       "      <td>1,935.000</td>\n",
       "      <td>3,227.217</td>\n",
       "      <td>4,220.000</td>\n",
       "      <td>112,355,500.000</td>\n",
       "      <td>95806814</td>\n",
       "      <td>55,863,000.000</td>\n",
       "    </tr>\n",
       "  </tbody>\n",
       "</table>\n",
       "</div>"
      ],
      "text/plain": [
       "Attributes Adj Close                         Close                      \\\n",
       "Symbols      ADRO.JK   BBRI.JK   TLKM.JK   ADRO.JK   BBRI.JK   TLKM.JK   \n",
       "Date                                                                     \n",
       "2018-01-01   587.300 2,503.332 3,383.594 1,860.000 3,309.034 4,440.000   \n",
       "2018-01-02   593.615 2,496.455 3,360.732 1,880.000 3,299.943 4,410.000   \n",
       "2018-01-03   577.828 2,482.700 3,223.559 1,830.000 3,281.761 4,230.000   \n",
       "2018-01-04   604.667 2,441.437 3,215.939 1,915.000 3,227.217 4,220.000   \n",
       "2018-01-05   628.348 2,468.946 3,261.663 1,990.000 3,263.580 4,280.000   \n",
       "\n",
       "Attributes      High                           Low                      \\\n",
       "Symbols      ADRO.JK   BBRI.JK   TLKM.JK   ADRO.JK   BBRI.JK   TLKM.JK   \n",
       "Date                                                                     \n",
       "2018-01-01 1,860.000 3,309.034 4,440.000 1,860.000 3,309.034 4,440.000   \n",
       "2018-01-02 1,900.000 3,381.760 4,460.000 1,865.000 3,281.761 4,380.000   \n",
       "2018-01-03 1,890.000 3,299.943 4,380.000 1,810.000 3,236.308 4,200.000   \n",
       "2018-01-04 1,935.000 3,281.761 4,250.000 1,850.000 3,145.400 4,190.000   \n",
       "2018-01-05 1,990.000 3,263.580 4,280.000 1,935.000 3,199.945 4,200.000   \n",
       "\n",
       "Attributes      Open                              Volume             \\\n",
       "Symbols      ADRO.JK   BBRI.JK   TLKM.JK         ADRO.JK    BBRI.JK   \n",
       "Date                                                                  \n",
       "2018-01-01 1,860.000 3,309.034 4,440.000           0.000          0   \n",
       "2018-01-02 1,865.000 3,354.488 4,430.000  26,045,000.000  100241541   \n",
       "2018-01-03 1,890.000 3,299.943 4,380.000  35,595,000.000   77164902   \n",
       "2018-01-04 1,860.000 3,281.761 4,230.000  81,191,500.000  172049901   \n",
       "2018-01-05 1,935.000 3,227.217 4,220.000 112,355,500.000   95806814   \n",
       "\n",
       "Attributes                  \n",
       "Symbols            TLKM.JK  \n",
       "Date                        \n",
       "2018-01-01           0.000  \n",
       "2018-01-02  66,075,600.000  \n",
       "2018-01-03 129,205,000.000  \n",
       "2018-01-04  77,953,300.000  \n",
       "2018-01-05  55,863,000.000  "
      ]
     },
     "execution_count": 2,
     "metadata": {},
     "output_type": "execute_result"
    }
   ],
   "source": [
    "# perusahaan yang akan ditarik datanya: BRI, Adaro, Telkom\n",
    "symbol = ['BBRI.JK', 'ADRO.JK', 'TLKM.JK']\n",
    "# range tanggal untuk mengambil data saham\n",
    "start_date = '2018-01-01' \n",
    "end_date = '2023-12-31' # (exclusive) \n",
    "\n",
    "# penarikan data\n",
    "stock = data.download(tickers = symbol, start = start_date, end = end_date)\n",
    "stock.columns.names = ['Attributes', 'Symbols']\n",
    "\n",
    "# 5 record teratas\n",
    "stock.head()"
   ]
  },
  {
   "cell_type": "markdown",
   "metadata": {},
   "source": [
    "**Penjelasan `Symbols`:**\n",
    "\n",
    "- `ADRO.JK`: PT Adaro Energy Indonesia Tbk.\n",
    "- `BBRI.JK`: PT Bank Rakyat Indonesia Tbk.\n",
    "- `TLKM.JK`: PT Telkom Indonesia Tbk.\n",
    "\n",
    "**Deskripsi Data:**\n",
    "\n",
    "- `Date`: tanggal dalam format `yyyy-mm-dd`.\n",
    "- `High`: nilai saham **tertinggi** di hari tersebut.\n",
    "- `Low`: nilai saham **terendah** di hari tersebut.\n",
    "- `Open`: nilai saham saat **_trading hours_ dibuka** di hari tersebut.\n",
    "- `Close`: nilai saham saat **_trading hours_ ditutup** di hari tersebut.\n",
    "- `Adj Close`: nilai `Close` yang telah disesuaikan _stock split_ dan pembagian dividen. \n",
    "- `Volume`: jumlah lembar saham yang berpindah tangan di hari tersebut (jumlah transaksi jual beli)."
   ]
  },
  {
   "cell_type": "markdown",
   "metadata": {},
   "source": [
    "## ✨Saving DataFrame to File✨"
   ]
  },
  {
   "cell_type": "markdown",
   "metadata": {},
   "source": [
    "Sebelumnya, kita sudah mempelajari bagaimana cara membaca data yang berformat `.csv` menggunakan fungsi `pd.read_csv()`. \n",
    "\n",
    "> ❓ Mbak Dwi harus menghadiri rapat di luar kantor. Ia meminta Mas Arkana untuk melanjutkan pembersihan dan analisis data yang telah ia mulai sebelumnya. Bagaimana cara Mbak Dwi dapat menyimpan *dataframe* hasil analisisnya menjadi sebuah *file* yang dapat digunakan oleh Mas Arkana?\n",
    "\n",
    "> 📌 Menggunakan fungsi `.to_csv()` untuk data yang berformat `.csv`."
   ]
  },
  {
   "cell_type": "code",
   "execution_count": 3,
   "metadata": {},
   "outputs": [],
   "source": [
    "# simpan data format CSV \n",
    "# simpan ke folder data_cache\n",
    "# simpan file dengan nama stock_csv.csv\n",
    "\n",
    "stock.to_csv('data_cache/stock_csv.csv')"
   ]
  },
  {
   "cell_type": "code",
   "execution_count": 4,
   "metadata": {},
   "outputs": [
    {
     "data": {
      "text/html": [
       "<div>\n",
       "<style scoped>\n",
       "    .dataframe tbody tr th:only-of-type {\n",
       "        vertical-align: middle;\n",
       "    }\n",
       "\n",
       "    .dataframe tbody tr th {\n",
       "        vertical-align: top;\n",
       "    }\n",
       "\n",
       "    .dataframe thead th {\n",
       "        text-align: right;\n",
       "    }\n",
       "</style>\n",
       "<table border=\"1\" class=\"dataframe\">\n",
       "  <thead>\n",
       "    <tr style=\"text-align: right;\">\n",
       "      <th></th>\n",
       "      <th>Attributes</th>\n",
       "      <th>Adj Close</th>\n",
       "      <th>Adj Close.1</th>\n",
       "      <th>Adj Close.2</th>\n",
       "      <th>Close</th>\n",
       "      <th>Close.1</th>\n",
       "      <th>Close.2</th>\n",
       "      <th>High</th>\n",
       "      <th>High.1</th>\n",
       "      <th>High.2</th>\n",
       "      <th>Low</th>\n",
       "      <th>Low.1</th>\n",
       "      <th>Low.2</th>\n",
       "      <th>Open</th>\n",
       "      <th>Open.1</th>\n",
       "      <th>Open.2</th>\n",
       "      <th>Volume</th>\n",
       "      <th>Volume.1</th>\n",
       "      <th>Volume.2</th>\n",
       "    </tr>\n",
       "  </thead>\n",
       "  <tbody>\n",
       "    <tr>\n",
       "      <th>0</th>\n",
       "      <td>Symbols</td>\n",
       "      <td>ADRO.JK</td>\n",
       "      <td>BBRI.JK</td>\n",
       "      <td>TLKM.JK</td>\n",
       "      <td>ADRO.JK</td>\n",
       "      <td>BBRI.JK</td>\n",
       "      <td>TLKM.JK</td>\n",
       "      <td>ADRO.JK</td>\n",
       "      <td>BBRI.JK</td>\n",
       "      <td>TLKM.JK</td>\n",
       "      <td>ADRO.JK</td>\n",
       "      <td>BBRI.JK</td>\n",
       "      <td>TLKM.JK</td>\n",
       "      <td>ADRO.JK</td>\n",
       "      <td>BBRI.JK</td>\n",
       "      <td>TLKM.JK</td>\n",
       "      <td>ADRO.JK</td>\n",
       "      <td>BBRI.JK</td>\n",
       "      <td>TLKM.JK</td>\n",
       "    </tr>\n",
       "    <tr>\n",
       "      <th>1</th>\n",
       "      <td>Date</td>\n",
       "      <td>NaN</td>\n",
       "      <td>NaN</td>\n",
       "      <td>NaN</td>\n",
       "      <td>NaN</td>\n",
       "      <td>NaN</td>\n",
       "      <td>NaN</td>\n",
       "      <td>NaN</td>\n",
       "      <td>NaN</td>\n",
       "      <td>NaN</td>\n",
       "      <td>NaN</td>\n",
       "      <td>NaN</td>\n",
       "      <td>NaN</td>\n",
       "      <td>NaN</td>\n",
       "      <td>NaN</td>\n",
       "      <td>NaN</td>\n",
       "      <td>NaN</td>\n",
       "      <td>NaN</td>\n",
       "      <td>NaN</td>\n",
       "    </tr>\n",
       "    <tr>\n",
       "      <th>2</th>\n",
       "      <td>2018-01-01</td>\n",
       "      <td>587.3004150390625</td>\n",
       "      <td>2503.332275390625</td>\n",
       "      <td>3383.59423828125</td>\n",
       "      <td>1860.0</td>\n",
       "      <td>3309.03369140625</td>\n",
       "      <td>4440.0</td>\n",
       "      <td>1860.0</td>\n",
       "      <td>3309.03369140625</td>\n",
       "      <td>4440.0</td>\n",
       "      <td>1860.0</td>\n",
       "      <td>3309.03369140625</td>\n",
       "      <td>4440.0</td>\n",
       "      <td>1860.0</td>\n",
       "      <td>3309.03369140625</td>\n",
       "      <td>4440.0</td>\n",
       "      <td>0.0</td>\n",
       "      <td>0</td>\n",
       "      <td>0.0</td>\n",
       "    </tr>\n",
       "    <tr>\n",
       "      <th>3</th>\n",
       "      <td>2018-01-02</td>\n",
       "      <td>593.615478515625</td>\n",
       "      <td>2496.454833984375</td>\n",
       "      <td>3360.732177734375</td>\n",
       "      <td>1880.0</td>\n",
       "      <td>3299.943115234375</td>\n",
       "      <td>4410.0</td>\n",
       "      <td>1900.0</td>\n",
       "      <td>3381.759765625</td>\n",
       "      <td>4460.0</td>\n",
       "      <td>1865.0</td>\n",
       "      <td>3281.761474609375</td>\n",
       "      <td>4380.0</td>\n",
       "      <td>1865.0</td>\n",
       "      <td>3354.487548828125</td>\n",
       "      <td>4430.0</td>\n",
       "      <td>26045000.0</td>\n",
       "      <td>100241541</td>\n",
       "      <td>66075600.0</td>\n",
       "    </tr>\n",
       "    <tr>\n",
       "      <th>4</th>\n",
       "      <td>2018-01-03</td>\n",
       "      <td>577.8276977539062</td>\n",
       "      <td>2482.700439453125</td>\n",
       "      <td>3223.55908203125</td>\n",
       "      <td>1830.0</td>\n",
       "      <td>3281.761474609375</td>\n",
       "      <td>4230.0</td>\n",
       "      <td>1890.0</td>\n",
       "      <td>3299.943115234375</td>\n",
       "      <td>4380.0</td>\n",
       "      <td>1810.0</td>\n",
       "      <td>3236.3076171875</td>\n",
       "      <td>4200.0</td>\n",
       "      <td>1890.0</td>\n",
       "      <td>3299.943115234375</td>\n",
       "      <td>4380.0</td>\n",
       "      <td>35595000.0</td>\n",
       "      <td>77164902</td>\n",
       "      <td>129205000.0</td>\n",
       "    </tr>\n",
       "  </tbody>\n",
       "</table>\n",
       "</div>"
      ],
      "text/plain": [
       "   Attributes          Adj Close        Adj Close.1        Adj Close.2  \\\n",
       "0     Symbols            ADRO.JK            BBRI.JK            TLKM.JK   \n",
       "1        Date                NaN                NaN                NaN   \n",
       "2  2018-01-01  587.3004150390625  2503.332275390625   3383.59423828125   \n",
       "3  2018-01-02   593.615478515625  2496.454833984375  3360.732177734375   \n",
       "4  2018-01-03  577.8276977539062  2482.700439453125   3223.55908203125   \n",
       "\n",
       "     Close            Close.1  Close.2     High             High.1   High.2  \\\n",
       "0  ADRO.JK            BBRI.JK  TLKM.JK  ADRO.JK            BBRI.JK  TLKM.JK   \n",
       "1      NaN                NaN      NaN      NaN                NaN      NaN   \n",
       "2   1860.0   3309.03369140625   4440.0   1860.0   3309.03369140625   4440.0   \n",
       "3   1880.0  3299.943115234375   4410.0   1900.0     3381.759765625   4460.0   \n",
       "4   1830.0  3281.761474609375   4230.0   1890.0  3299.943115234375   4380.0   \n",
       "\n",
       "       Low              Low.1    Low.2     Open             Open.1   Open.2  \\\n",
       "0  ADRO.JK            BBRI.JK  TLKM.JK  ADRO.JK            BBRI.JK  TLKM.JK   \n",
       "1      NaN                NaN      NaN      NaN                NaN      NaN   \n",
       "2   1860.0   3309.03369140625   4440.0   1860.0   3309.03369140625   4440.0   \n",
       "3   1865.0  3281.761474609375   4380.0   1865.0  3354.487548828125   4430.0   \n",
       "4   1810.0    3236.3076171875   4200.0   1890.0  3299.943115234375   4380.0   \n",
       "\n",
       "       Volume   Volume.1     Volume.2  \n",
       "0     ADRO.JK    BBRI.JK      TLKM.JK  \n",
       "1         NaN        NaN          NaN  \n",
       "2         0.0          0          0.0  \n",
       "3  26045000.0  100241541   66075600.0  \n",
       "4  35595000.0   77164902  129205000.0  "
      ]
     },
     "execution_count": 4,
     "metadata": {},
     "output_type": "execute_result"
    }
   ],
   "source": [
    "# read data\n",
    "\n",
    "stock_loaded = pd.read_csv('data_cache/stock_csv.csv')\n",
    "stock_loaded.head()"
   ]
  },
  {
   "cell_type": "markdown",
   "metadata": {},
   "source": [
    "Ternyata struktur *dataset* yang diserahkan oleh Mbak Dwi menjadi tidak rapi setelah disimpan ke format `.csv` dan dipanggil kembali. Untuk mengatasi hal ini, Mbak Dwi bisa menyimpan *dataframe* dalam format `.pkl` atau *pickle*."
   ]
  },
  {
   "cell_type": "markdown",
   "metadata": {},
   "source": [
    "> 📌 ***Pickling***: menyimpan suatu objek Python ke sebuah _file binary_ (_byte stream_)."
   ]
  },
  {
   "cell_type": "markdown",
   "metadata": {},
   "source": [
    "**🔎 Langkah-Langkah *Pickling***\n",
    "\n",
    "1. Menyimpan data dengan fungsi `.to_pickle()`.\n",
    "2. Membaca data dengan fungsi `pd.read_pickle()`."
   ]
  },
  {
   "cell_type": "code",
   "execution_count": 5,
   "metadata": {},
   "outputs": [],
   "source": [
    "# simpan ke format pickle\n",
    "# simpan ke folder data_cache\n",
    "# simpan file dengan nama stock.pkl\n",
    "\n",
    "stock.to_pickle('data_cache/stock.pkl')"
   ]
  },
  {
   "cell_type": "code",
   "execution_count": 6,
   "metadata": {},
   "outputs": [
    {
     "data": {
      "text/html": [
       "<div>\n",
       "<style scoped>\n",
       "    .dataframe tbody tr th:only-of-type {\n",
       "        vertical-align: middle;\n",
       "    }\n",
       "\n",
       "    .dataframe tbody tr th {\n",
       "        vertical-align: top;\n",
       "    }\n",
       "\n",
       "    .dataframe thead tr th {\n",
       "        text-align: left;\n",
       "    }\n",
       "\n",
       "    .dataframe thead tr:last-of-type th {\n",
       "        text-align: right;\n",
       "    }\n",
       "</style>\n",
       "<table border=\"1\" class=\"dataframe\">\n",
       "  <thead>\n",
       "    <tr>\n",
       "      <th>Attributes</th>\n",
       "      <th colspan=\"3\" halign=\"left\">Adj Close</th>\n",
       "      <th colspan=\"3\" halign=\"left\">Close</th>\n",
       "      <th colspan=\"3\" halign=\"left\">High</th>\n",
       "      <th colspan=\"3\" halign=\"left\">Low</th>\n",
       "      <th colspan=\"3\" halign=\"left\">Open</th>\n",
       "      <th colspan=\"3\" halign=\"left\">Volume</th>\n",
       "    </tr>\n",
       "    <tr>\n",
       "      <th>Symbols</th>\n",
       "      <th>ADRO.JK</th>\n",
       "      <th>BBRI.JK</th>\n",
       "      <th>TLKM.JK</th>\n",
       "      <th>ADRO.JK</th>\n",
       "      <th>BBRI.JK</th>\n",
       "      <th>TLKM.JK</th>\n",
       "      <th>ADRO.JK</th>\n",
       "      <th>BBRI.JK</th>\n",
       "      <th>TLKM.JK</th>\n",
       "      <th>ADRO.JK</th>\n",
       "      <th>BBRI.JK</th>\n",
       "      <th>TLKM.JK</th>\n",
       "      <th>ADRO.JK</th>\n",
       "      <th>BBRI.JK</th>\n",
       "      <th>TLKM.JK</th>\n",
       "      <th>ADRO.JK</th>\n",
       "      <th>BBRI.JK</th>\n",
       "      <th>TLKM.JK</th>\n",
       "    </tr>\n",
       "    <tr>\n",
       "      <th>Date</th>\n",
       "      <th></th>\n",
       "      <th></th>\n",
       "      <th></th>\n",
       "      <th></th>\n",
       "      <th></th>\n",
       "      <th></th>\n",
       "      <th></th>\n",
       "      <th></th>\n",
       "      <th></th>\n",
       "      <th></th>\n",
       "      <th></th>\n",
       "      <th></th>\n",
       "      <th></th>\n",
       "      <th></th>\n",
       "      <th></th>\n",
       "      <th></th>\n",
       "      <th></th>\n",
       "      <th></th>\n",
       "    </tr>\n",
       "  </thead>\n",
       "  <tbody>\n",
       "    <tr>\n",
       "      <th>2018-01-01</th>\n",
       "      <td>587.300</td>\n",
       "      <td>2,503.332</td>\n",
       "      <td>3,383.594</td>\n",
       "      <td>1,860.000</td>\n",
       "      <td>3,309.034</td>\n",
       "      <td>4,440.000</td>\n",
       "      <td>1,860.000</td>\n",
       "      <td>3,309.034</td>\n",
       "      <td>4,440.000</td>\n",
       "      <td>1,860.000</td>\n",
       "      <td>3,309.034</td>\n",
       "      <td>4,440.000</td>\n",
       "      <td>1,860.000</td>\n",
       "      <td>3,309.034</td>\n",
       "      <td>4,440.000</td>\n",
       "      <td>0.000</td>\n",
       "      <td>0</td>\n",
       "      <td>0.000</td>\n",
       "    </tr>\n",
       "    <tr>\n",
       "      <th>2018-01-02</th>\n",
       "      <td>593.615</td>\n",
       "      <td>2,496.455</td>\n",
       "      <td>3,360.732</td>\n",
       "      <td>1,880.000</td>\n",
       "      <td>3,299.943</td>\n",
       "      <td>4,410.000</td>\n",
       "      <td>1,900.000</td>\n",
       "      <td>3,381.760</td>\n",
       "      <td>4,460.000</td>\n",
       "      <td>1,865.000</td>\n",
       "      <td>3,281.761</td>\n",
       "      <td>4,380.000</td>\n",
       "      <td>1,865.000</td>\n",
       "      <td>3,354.488</td>\n",
       "      <td>4,430.000</td>\n",
       "      <td>26,045,000.000</td>\n",
       "      <td>100241541</td>\n",
       "      <td>66,075,600.000</td>\n",
       "    </tr>\n",
       "    <tr>\n",
       "      <th>2018-01-03</th>\n",
       "      <td>577.828</td>\n",
       "      <td>2,482.700</td>\n",
       "      <td>3,223.559</td>\n",
       "      <td>1,830.000</td>\n",
       "      <td>3,281.761</td>\n",
       "      <td>4,230.000</td>\n",
       "      <td>1,890.000</td>\n",
       "      <td>3,299.943</td>\n",
       "      <td>4,380.000</td>\n",
       "      <td>1,810.000</td>\n",
       "      <td>3,236.308</td>\n",
       "      <td>4,200.000</td>\n",
       "      <td>1,890.000</td>\n",
       "      <td>3,299.943</td>\n",
       "      <td>4,380.000</td>\n",
       "      <td>35,595,000.000</td>\n",
       "      <td>77164902</td>\n",
       "      <td>129,205,000.000</td>\n",
       "    </tr>\n",
       "    <tr>\n",
       "      <th>2018-01-04</th>\n",
       "      <td>604.667</td>\n",
       "      <td>2,441.437</td>\n",
       "      <td>3,215.939</td>\n",
       "      <td>1,915.000</td>\n",
       "      <td>3,227.217</td>\n",
       "      <td>4,220.000</td>\n",
       "      <td>1,935.000</td>\n",
       "      <td>3,281.761</td>\n",
       "      <td>4,250.000</td>\n",
       "      <td>1,850.000</td>\n",
       "      <td>3,145.400</td>\n",
       "      <td>4,190.000</td>\n",
       "      <td>1,860.000</td>\n",
       "      <td>3,281.761</td>\n",
       "      <td>4,230.000</td>\n",
       "      <td>81,191,500.000</td>\n",
       "      <td>172049901</td>\n",
       "      <td>77,953,300.000</td>\n",
       "    </tr>\n",
       "    <tr>\n",
       "      <th>2018-01-05</th>\n",
       "      <td>628.348</td>\n",
       "      <td>2,468.946</td>\n",
       "      <td>3,261.663</td>\n",
       "      <td>1,990.000</td>\n",
       "      <td>3,263.580</td>\n",
       "      <td>4,280.000</td>\n",
       "      <td>1,990.000</td>\n",
       "      <td>3,263.580</td>\n",
       "      <td>4,280.000</td>\n",
       "      <td>1,935.000</td>\n",
       "      <td>3,199.945</td>\n",
       "      <td>4,200.000</td>\n",
       "      <td>1,935.000</td>\n",
       "      <td>3,227.217</td>\n",
       "      <td>4,220.000</td>\n",
       "      <td>112,355,500.000</td>\n",
       "      <td>95806814</td>\n",
       "      <td>55,863,000.000</td>\n",
       "    </tr>\n",
       "  </tbody>\n",
       "</table>\n",
       "</div>"
      ],
      "text/plain": [
       "Attributes Adj Close                         Close                      \\\n",
       "Symbols      ADRO.JK   BBRI.JK   TLKM.JK   ADRO.JK   BBRI.JK   TLKM.JK   \n",
       "Date                                                                     \n",
       "2018-01-01   587.300 2,503.332 3,383.594 1,860.000 3,309.034 4,440.000   \n",
       "2018-01-02   593.615 2,496.455 3,360.732 1,880.000 3,299.943 4,410.000   \n",
       "2018-01-03   577.828 2,482.700 3,223.559 1,830.000 3,281.761 4,230.000   \n",
       "2018-01-04   604.667 2,441.437 3,215.939 1,915.000 3,227.217 4,220.000   \n",
       "2018-01-05   628.348 2,468.946 3,261.663 1,990.000 3,263.580 4,280.000   \n",
       "\n",
       "Attributes      High                           Low                      \\\n",
       "Symbols      ADRO.JK   BBRI.JK   TLKM.JK   ADRO.JK   BBRI.JK   TLKM.JK   \n",
       "Date                                                                     \n",
       "2018-01-01 1,860.000 3,309.034 4,440.000 1,860.000 3,309.034 4,440.000   \n",
       "2018-01-02 1,900.000 3,381.760 4,460.000 1,865.000 3,281.761 4,380.000   \n",
       "2018-01-03 1,890.000 3,299.943 4,380.000 1,810.000 3,236.308 4,200.000   \n",
       "2018-01-04 1,935.000 3,281.761 4,250.000 1,850.000 3,145.400 4,190.000   \n",
       "2018-01-05 1,990.000 3,263.580 4,280.000 1,935.000 3,199.945 4,200.000   \n",
       "\n",
       "Attributes      Open                              Volume             \\\n",
       "Symbols      ADRO.JK   BBRI.JK   TLKM.JK         ADRO.JK    BBRI.JK   \n",
       "Date                                                                  \n",
       "2018-01-01 1,860.000 3,309.034 4,440.000           0.000          0   \n",
       "2018-01-02 1,865.000 3,354.488 4,430.000  26,045,000.000  100241541   \n",
       "2018-01-03 1,890.000 3,299.943 4,380.000  35,595,000.000   77164902   \n",
       "2018-01-04 1,860.000 3,281.761 4,230.000  81,191,500.000  172049901   \n",
       "2018-01-05 1,935.000 3,227.217 4,220.000 112,355,500.000   95806814   \n",
       "\n",
       "Attributes                  \n",
       "Symbols            TLKM.JK  \n",
       "Date                        \n",
       "2018-01-01           0.000  \n",
       "2018-01-02  66,075,600.000  \n",
       "2018-01-03 129,205,000.000  \n",
       "2018-01-04  77,953,300.000  \n",
       "2018-01-05  55,863,000.000  "
      ]
     },
     "execution_count": 6,
     "metadata": {},
     "output_type": "execute_result"
    }
   ],
   "source": [
    "# read pickle\n",
    "stock_pkl = pd.read_pickle('data_cache/stock.pkl')\n",
    "stock_pkl.head()"
   ]
  },
  {
   "cell_type": "markdown",
   "metadata": {},
   "source": [
    "*Pickling* juga membantu kita untuk mempertahankan tipe data dari setiap kolom pada _dataframe_."
   ]
  },
  {
   "cell_type": "code",
   "execution_count": 7,
   "metadata": {},
   "outputs": [],
   "source": [
    "# membuat dummy data lalu konversi tipe data\n",
    "dummy = pd.DataFrame({\n",
    "    'id': [1, 2, 3, 4, 5, 6, 7],\n",
    "    'gender': ['Male', 'Female', 'Male', 'Female', 'Female', 'Female', 'Male'],\n",
    "    'blood_type': ['O', 'A', 'B', 'AB', 'B', 'B', 'O'],\n",
    "    'join_date': ['28 Jun 2021', '29 Jun 2021', '30 Jun 2021', '1 Jul 2021', '2 Jul 2021', '3 Jul 2021', '4 Jul 2021']\n",
    "})"
   ]
  },
  {
   "cell_type": "code",
   "execution_count": 8,
   "metadata": {},
   "outputs": [
    {
     "data": {
      "text/html": [
       "<div>\n",
       "<style scoped>\n",
       "    .dataframe tbody tr th:only-of-type {\n",
       "        vertical-align: middle;\n",
       "    }\n",
       "\n",
       "    .dataframe tbody tr th {\n",
       "        vertical-align: top;\n",
       "    }\n",
       "\n",
       "    .dataframe thead th {\n",
       "        text-align: right;\n",
       "    }\n",
       "</style>\n",
       "<table border=\"1\" class=\"dataframe\">\n",
       "  <thead>\n",
       "    <tr style=\"text-align: right;\">\n",
       "      <th></th>\n",
       "      <th>id</th>\n",
       "      <th>gender</th>\n",
       "      <th>blood_type</th>\n",
       "      <th>join_date</th>\n",
       "    </tr>\n",
       "  </thead>\n",
       "  <tbody>\n",
       "    <tr>\n",
       "      <th>0</th>\n",
       "      <td>1</td>\n",
       "      <td>Male</td>\n",
       "      <td>O</td>\n",
       "      <td>28 Jun 2021</td>\n",
       "    </tr>\n",
       "    <tr>\n",
       "      <th>1</th>\n",
       "      <td>2</td>\n",
       "      <td>Female</td>\n",
       "      <td>A</td>\n",
       "      <td>29 Jun 2021</td>\n",
       "    </tr>\n",
       "    <tr>\n",
       "      <th>2</th>\n",
       "      <td>3</td>\n",
       "      <td>Male</td>\n",
       "      <td>B</td>\n",
       "      <td>30 Jun 2021</td>\n",
       "    </tr>\n",
       "    <tr>\n",
       "      <th>3</th>\n",
       "      <td>4</td>\n",
       "      <td>Female</td>\n",
       "      <td>AB</td>\n",
       "      <td>1 Jul 2021</td>\n",
       "    </tr>\n",
       "    <tr>\n",
       "      <th>4</th>\n",
       "      <td>5</td>\n",
       "      <td>Female</td>\n",
       "      <td>B</td>\n",
       "      <td>2 Jul 2021</td>\n",
       "    </tr>\n",
       "  </tbody>\n",
       "</table>\n",
       "</div>"
      ],
      "text/plain": [
       "   id  gender blood_type    join_date\n",
       "0   1    Male          O  28 Jun 2021\n",
       "1   2  Female          A  29 Jun 2021\n",
       "2   3    Male          B  30 Jun 2021\n",
       "3   4  Female         AB   1 Jul 2021\n",
       "4   5  Female          B   2 Jul 2021"
      ]
     },
     "execution_count": 8,
     "metadata": {},
     "output_type": "execute_result"
    }
   ],
   "source": [
    "dummy.head()"
   ]
  },
  {
   "cell_type": "code",
   "execution_count": 9,
   "metadata": {},
   "outputs": [
    {
     "data": {
      "text/plain": [
       "id             int64\n",
       "gender        object\n",
       "blood_type    object\n",
       "join_date     object\n",
       "dtype: object"
      ]
     },
     "execution_count": 9,
     "metadata": {},
     "output_type": "execute_result"
    }
   ],
   "source": [
    "dummy.dtypes"
   ]
  },
  {
   "cell_type": "code",
   "execution_count": 10,
   "metadata": {},
   "outputs": [
    {
     "data": {
      "text/plain": [
       "id                     int64\n",
       "gender              category\n",
       "blood_type          category\n",
       "join_date     datetime64[ns]\n",
       "dtype: object"
      ]
     },
     "execution_count": 10,
     "metadata": {},
     "output_type": "execute_result"
    }
   ],
   "source": [
    "# ubah tipe data\n",
    "dummy[['gender', 'blood_type']] = dummy[['gender', 'blood_type']].astype('category')\n",
    "dummy['join_date'] = dummy['join_date'].astype('datetime64[ns]')\n",
    "dummy.dtypes"
   ]
  },
  {
   "cell_type": "markdown",
   "metadata": {},
   "source": [
    "Kita akan mencoba untuk menyimpan dalam format `.csv`."
   ]
  },
  {
   "cell_type": "code",
   "execution_count": 11,
   "metadata": {},
   "outputs": [
    {
     "data": {
      "text/plain": [
       "id             int64\n",
       "gender        object\n",
       "blood_type    object\n",
       "join_date     object\n",
       "dtype: object"
      ]
     },
     "execution_count": 11,
     "metadata": {},
     "output_type": "execute_result"
    }
   ],
   "source": [
    "# simpan ke file csv\n",
    "dummy.to_csv('data_cache/dummy.csv', index=False)\n",
    "\n",
    "# baca dari csv dan cek tipe data\n",
    "pd.read_csv('data_cache/dummy.csv').dtypes"
   ]
  },
  {
   "cell_type": "markdown",
   "metadata": {},
   "source": [
    "> Terlihat bahwa tipe data dari kolom `gender`, `blood_type`, dan `join_date` terdeteksi sebagai `object`."
   ]
  },
  {
   "cell_type": "markdown",
   "metadata": {},
   "source": [
    "Kita akan mencoba untuk menyimpan dalam format `.pkl`."
   ]
  },
  {
   "cell_type": "code",
   "execution_count": 12,
   "metadata": {},
   "outputs": [
    {
     "data": {
      "text/plain": [
       "id                     int64\n",
       "gender              category\n",
       "blood_type          category\n",
       "join_date     datetime64[ns]\n",
       "dtype: object"
      ]
     },
     "execution_count": 12,
     "metadata": {},
     "output_type": "execute_result"
    }
   ],
   "source": [
    "# simpan object dummy ke file pickle\n",
    "dummy.to_pickle('data_cache/dummy.pkl')\n",
    "\n",
    "# baca dari pickle dan cek tipe data\n",
    "pd.read_pickle('data_cache/dummy.pkl').dtypes"
   ]
  },
  {
   "cell_type": "markdown",
   "metadata": {},
   "source": [
    "> Tipe data sebelum data disimpan dan setelah data disimpan adalah sama."
   ]
  },
  {
   "cell_type": "markdown",
   "metadata": {},
   "source": [
    "**⚠️*Pros & Cons Pickle File***\n",
    "\n",
    "Kelebihan:\n",
    "- Mempertahankan struktur dari _dataframe_.\n",
    "- Mempertahankan tipe data dari _dataframe_.\n",
    "\n",
    "Kekurangan:\n",
    "- Hanya bisa dibaca dengan Python dan tidak bisa langsung diakses dengan _double click_.\n",
    "- _Pickle_ dari sumber yang tidak terpercaya rentan untuk menyebarkan _malware_."
   ]
  },
  {
   "cell_type": "markdown",
   "metadata": {},
   "source": [
    "## ✨Slicing Multi-Index DataFrame✨"
   ]
  },
  {
   "cell_type": "markdown",
   "metadata": {},
   "source": [
    "Mari kita lihat kembali data `stock` sebelumnya."
   ]
  },
  {
   "cell_type": "code",
   "execution_count": 13,
   "metadata": {},
   "outputs": [
    {
     "data": {
      "text/html": [
       "<div>\n",
       "<style scoped>\n",
       "    .dataframe tbody tr th:only-of-type {\n",
       "        vertical-align: middle;\n",
       "    }\n",
       "\n",
       "    .dataframe tbody tr th {\n",
       "        vertical-align: top;\n",
       "    }\n",
       "\n",
       "    .dataframe thead tr th {\n",
       "        text-align: left;\n",
       "    }\n",
       "\n",
       "    .dataframe thead tr:last-of-type th {\n",
       "        text-align: right;\n",
       "    }\n",
       "</style>\n",
       "<table border=\"1\" class=\"dataframe\">\n",
       "  <thead>\n",
       "    <tr>\n",
       "      <th>Attributes</th>\n",
       "      <th colspan=\"3\" halign=\"left\">Adj Close</th>\n",
       "      <th colspan=\"3\" halign=\"left\">Close</th>\n",
       "      <th colspan=\"3\" halign=\"left\">High</th>\n",
       "      <th colspan=\"3\" halign=\"left\">Low</th>\n",
       "      <th colspan=\"3\" halign=\"left\">Open</th>\n",
       "      <th colspan=\"3\" halign=\"left\">Volume</th>\n",
       "    </tr>\n",
       "    <tr>\n",
       "      <th>Symbols</th>\n",
       "      <th>ADRO.JK</th>\n",
       "      <th>BBRI.JK</th>\n",
       "      <th>TLKM.JK</th>\n",
       "      <th>ADRO.JK</th>\n",
       "      <th>BBRI.JK</th>\n",
       "      <th>TLKM.JK</th>\n",
       "      <th>ADRO.JK</th>\n",
       "      <th>BBRI.JK</th>\n",
       "      <th>TLKM.JK</th>\n",
       "      <th>ADRO.JK</th>\n",
       "      <th>BBRI.JK</th>\n",
       "      <th>TLKM.JK</th>\n",
       "      <th>ADRO.JK</th>\n",
       "      <th>BBRI.JK</th>\n",
       "      <th>TLKM.JK</th>\n",
       "      <th>ADRO.JK</th>\n",
       "      <th>BBRI.JK</th>\n",
       "      <th>TLKM.JK</th>\n",
       "    </tr>\n",
       "    <tr>\n",
       "      <th>Date</th>\n",
       "      <th></th>\n",
       "      <th></th>\n",
       "      <th></th>\n",
       "      <th></th>\n",
       "      <th></th>\n",
       "      <th></th>\n",
       "      <th></th>\n",
       "      <th></th>\n",
       "      <th></th>\n",
       "      <th></th>\n",
       "      <th></th>\n",
       "      <th></th>\n",
       "      <th></th>\n",
       "      <th></th>\n",
       "      <th></th>\n",
       "      <th></th>\n",
       "      <th></th>\n",
       "      <th></th>\n",
       "    </tr>\n",
       "  </thead>\n",
       "  <tbody>\n",
       "    <tr>\n",
       "      <th>2018-01-01</th>\n",
       "      <td>587.300</td>\n",
       "      <td>2,503.332</td>\n",
       "      <td>3,383.594</td>\n",
       "      <td>1,860.000</td>\n",
       "      <td>3,309.034</td>\n",
       "      <td>4,440.000</td>\n",
       "      <td>1,860.000</td>\n",
       "      <td>3,309.034</td>\n",
       "      <td>4,440.000</td>\n",
       "      <td>1,860.000</td>\n",
       "      <td>3,309.034</td>\n",
       "      <td>4,440.000</td>\n",
       "      <td>1,860.000</td>\n",
       "      <td>3,309.034</td>\n",
       "      <td>4,440.000</td>\n",
       "      <td>0.000</td>\n",
       "      <td>0</td>\n",
       "      <td>0.000</td>\n",
       "    </tr>\n",
       "    <tr>\n",
       "      <th>2018-01-02</th>\n",
       "      <td>593.615</td>\n",
       "      <td>2,496.455</td>\n",
       "      <td>3,360.732</td>\n",
       "      <td>1,880.000</td>\n",
       "      <td>3,299.943</td>\n",
       "      <td>4,410.000</td>\n",
       "      <td>1,900.000</td>\n",
       "      <td>3,381.760</td>\n",
       "      <td>4,460.000</td>\n",
       "      <td>1,865.000</td>\n",
       "      <td>3,281.761</td>\n",
       "      <td>4,380.000</td>\n",
       "      <td>1,865.000</td>\n",
       "      <td>3,354.488</td>\n",
       "      <td>4,430.000</td>\n",
       "      <td>26,045,000.000</td>\n",
       "      <td>100241541</td>\n",
       "      <td>66,075,600.000</td>\n",
       "    </tr>\n",
       "    <tr>\n",
       "      <th>2018-01-03</th>\n",
       "      <td>577.828</td>\n",
       "      <td>2,482.700</td>\n",
       "      <td>3,223.559</td>\n",
       "      <td>1,830.000</td>\n",
       "      <td>3,281.761</td>\n",
       "      <td>4,230.000</td>\n",
       "      <td>1,890.000</td>\n",
       "      <td>3,299.943</td>\n",
       "      <td>4,380.000</td>\n",
       "      <td>1,810.000</td>\n",
       "      <td>3,236.308</td>\n",
       "      <td>4,200.000</td>\n",
       "      <td>1,890.000</td>\n",
       "      <td>3,299.943</td>\n",
       "      <td>4,380.000</td>\n",
       "      <td>35,595,000.000</td>\n",
       "      <td>77164902</td>\n",
       "      <td>129,205,000.000</td>\n",
       "    </tr>\n",
       "    <tr>\n",
       "      <th>2018-01-04</th>\n",
       "      <td>604.667</td>\n",
       "      <td>2,441.437</td>\n",
       "      <td>3,215.939</td>\n",
       "      <td>1,915.000</td>\n",
       "      <td>3,227.217</td>\n",
       "      <td>4,220.000</td>\n",
       "      <td>1,935.000</td>\n",
       "      <td>3,281.761</td>\n",
       "      <td>4,250.000</td>\n",
       "      <td>1,850.000</td>\n",
       "      <td>3,145.400</td>\n",
       "      <td>4,190.000</td>\n",
       "      <td>1,860.000</td>\n",
       "      <td>3,281.761</td>\n",
       "      <td>4,230.000</td>\n",
       "      <td>81,191,500.000</td>\n",
       "      <td>172049901</td>\n",
       "      <td>77,953,300.000</td>\n",
       "    </tr>\n",
       "    <tr>\n",
       "      <th>2018-01-05</th>\n",
       "      <td>628.348</td>\n",
       "      <td>2,468.946</td>\n",
       "      <td>3,261.663</td>\n",
       "      <td>1,990.000</td>\n",
       "      <td>3,263.580</td>\n",
       "      <td>4,280.000</td>\n",
       "      <td>1,990.000</td>\n",
       "      <td>3,263.580</td>\n",
       "      <td>4,280.000</td>\n",
       "      <td>1,935.000</td>\n",
       "      <td>3,199.945</td>\n",
       "      <td>4,200.000</td>\n",
       "      <td>1,935.000</td>\n",
       "      <td>3,227.217</td>\n",
       "      <td>4,220.000</td>\n",
       "      <td>112,355,500.000</td>\n",
       "      <td>95806814</td>\n",
       "      <td>55,863,000.000</td>\n",
       "    </tr>\n",
       "  </tbody>\n",
       "</table>\n",
       "</div>"
      ],
      "text/plain": [
       "Attributes Adj Close                         Close                      \\\n",
       "Symbols      ADRO.JK   BBRI.JK   TLKM.JK   ADRO.JK   BBRI.JK   TLKM.JK   \n",
       "Date                                                                     \n",
       "2018-01-01   587.300 2,503.332 3,383.594 1,860.000 3,309.034 4,440.000   \n",
       "2018-01-02   593.615 2,496.455 3,360.732 1,880.000 3,299.943 4,410.000   \n",
       "2018-01-03   577.828 2,482.700 3,223.559 1,830.000 3,281.761 4,230.000   \n",
       "2018-01-04   604.667 2,441.437 3,215.939 1,915.000 3,227.217 4,220.000   \n",
       "2018-01-05   628.348 2,468.946 3,261.663 1,990.000 3,263.580 4,280.000   \n",
       "\n",
       "Attributes      High                           Low                      \\\n",
       "Symbols      ADRO.JK   BBRI.JK   TLKM.JK   ADRO.JK   BBRI.JK   TLKM.JK   \n",
       "Date                                                                     \n",
       "2018-01-01 1,860.000 3,309.034 4,440.000 1,860.000 3,309.034 4,440.000   \n",
       "2018-01-02 1,900.000 3,381.760 4,460.000 1,865.000 3,281.761 4,380.000   \n",
       "2018-01-03 1,890.000 3,299.943 4,380.000 1,810.000 3,236.308 4,200.000   \n",
       "2018-01-04 1,935.000 3,281.761 4,250.000 1,850.000 3,145.400 4,190.000   \n",
       "2018-01-05 1,990.000 3,263.580 4,280.000 1,935.000 3,199.945 4,200.000   \n",
       "\n",
       "Attributes      Open                              Volume             \\\n",
       "Symbols      ADRO.JK   BBRI.JK   TLKM.JK         ADRO.JK    BBRI.JK   \n",
       "Date                                                                  \n",
       "2018-01-01 1,860.000 3,309.034 4,440.000           0.000          0   \n",
       "2018-01-02 1,865.000 3,354.488 4,430.000  26,045,000.000  100241541   \n",
       "2018-01-03 1,890.000 3,299.943 4,380.000  35,595,000.000   77164902   \n",
       "2018-01-04 1,860.000 3,281.761 4,230.000  81,191,500.000  172049901   \n",
       "2018-01-05 1,935.000 3,227.217 4,220.000 112,355,500.000   95806814   \n",
       "\n",
       "Attributes                  \n",
       "Symbols            TLKM.JK  \n",
       "Date                        \n",
       "2018-01-01           0.000  \n",
       "2018-01-02  66,075,600.000  \n",
       "2018-01-03 129,205,000.000  \n",
       "2018-01-04  77,953,300.000  \n",
       "2018-01-05  55,863,000.000  "
      ]
     },
     "execution_count": 13,
     "metadata": {},
     "output_type": "execute_result"
    }
   ],
   "source": [
    "stock.head()"
   ]
  },
  {
   "cell_type": "markdown",
   "metadata": {},
   "source": [
    "Perhatikan bahwa kolom pada data `stock` memiliki susunan kolom yang berbeda dari yang sudah kita pelajari di minggu-minggu sebelumnya. `stock` memiliki kolom yang terdiri dari 2 level:\n",
    "\n",
    "1. Level pertama (level 0): menunjukkan `Attributes`.\n",
    "2. Level kedua (level 1): menunjukkan `Symbols`.\n",
    "\n",
    "Data seperti ini disebut dengan ***multi-index dataframe***.\n",
    "\n",
    "> 📌 ***Multi-index dataframe*** adalah *dataframe* yang memiliki >1 level indeks baris dan/atau level indeks kolom."
   ]
  },
  {
   "cell_type": "markdown",
   "metadata": {},
   "source": [
    "> ❓ Mas Arkana telah berhasil me-*load* *file* yang diberikan oleh Mbak Dwi. Dari data yang ada, ia ingin mengambil data harga saham BRI, Adaro, dan Telkom  saat *trading hours* ditutup (`Close`). Bagaimana cara melakukan *slicing* dari data yang ada?"
   ]
  },
  {
   "cell_type": "code",
   "execution_count": 14,
   "metadata": {},
   "outputs": [
    {
     "data": {
      "text/html": [
       "<div>\n",
       "<style scoped>\n",
       "    .dataframe tbody tr th:only-of-type {\n",
       "        vertical-align: middle;\n",
       "    }\n",
       "\n",
       "    .dataframe tbody tr th {\n",
       "        vertical-align: top;\n",
       "    }\n",
       "\n",
       "    .dataframe thead tr th {\n",
       "        text-align: left;\n",
       "    }\n",
       "\n",
       "    .dataframe thead tr:last-of-type th {\n",
       "        text-align: right;\n",
       "    }\n",
       "</style>\n",
       "<table border=\"1\" class=\"dataframe\">\n",
       "  <thead>\n",
       "    <tr>\n",
       "      <th>Attributes</th>\n",
       "      <th colspan=\"3\" halign=\"left\">Adj Close</th>\n",
       "      <th colspan=\"3\" halign=\"left\">Close</th>\n",
       "      <th colspan=\"3\" halign=\"left\">High</th>\n",
       "      <th colspan=\"3\" halign=\"left\">Low</th>\n",
       "      <th colspan=\"3\" halign=\"left\">Open</th>\n",
       "      <th colspan=\"3\" halign=\"left\">Volume</th>\n",
       "    </tr>\n",
       "    <tr>\n",
       "      <th>Symbols</th>\n",
       "      <th>ADRO.JK</th>\n",
       "      <th>BBRI.JK</th>\n",
       "      <th>TLKM.JK</th>\n",
       "      <th>ADRO.JK</th>\n",
       "      <th>BBRI.JK</th>\n",
       "      <th>TLKM.JK</th>\n",
       "      <th>ADRO.JK</th>\n",
       "      <th>BBRI.JK</th>\n",
       "      <th>TLKM.JK</th>\n",
       "      <th>ADRO.JK</th>\n",
       "      <th>BBRI.JK</th>\n",
       "      <th>TLKM.JK</th>\n",
       "      <th>ADRO.JK</th>\n",
       "      <th>BBRI.JK</th>\n",
       "      <th>TLKM.JK</th>\n",
       "      <th>ADRO.JK</th>\n",
       "      <th>BBRI.JK</th>\n",
       "      <th>TLKM.JK</th>\n",
       "    </tr>\n",
       "    <tr>\n",
       "      <th>Date</th>\n",
       "      <th></th>\n",
       "      <th></th>\n",
       "      <th></th>\n",
       "      <th></th>\n",
       "      <th></th>\n",
       "      <th></th>\n",
       "      <th></th>\n",
       "      <th></th>\n",
       "      <th></th>\n",
       "      <th></th>\n",
       "      <th></th>\n",
       "      <th></th>\n",
       "      <th></th>\n",
       "      <th></th>\n",
       "      <th></th>\n",
       "      <th></th>\n",
       "      <th></th>\n",
       "      <th></th>\n",
       "    </tr>\n",
       "  </thead>\n",
       "  <tbody>\n",
       "    <tr>\n",
       "      <th>2018-01-01</th>\n",
       "      <td>587.300</td>\n",
       "      <td>2,503.332</td>\n",
       "      <td>3,383.594</td>\n",
       "      <td>1,860.000</td>\n",
       "      <td>3,309.034</td>\n",
       "      <td>4,440.000</td>\n",
       "      <td>1,860.000</td>\n",
       "      <td>3,309.034</td>\n",
       "      <td>4,440.000</td>\n",
       "      <td>1,860.000</td>\n",
       "      <td>3,309.034</td>\n",
       "      <td>4,440.000</td>\n",
       "      <td>1,860.000</td>\n",
       "      <td>3,309.034</td>\n",
       "      <td>4,440.000</td>\n",
       "      <td>0.000</td>\n",
       "      <td>0</td>\n",
       "      <td>0.000</td>\n",
       "    </tr>\n",
       "    <tr>\n",
       "      <th>2018-01-02</th>\n",
       "      <td>593.615</td>\n",
       "      <td>2,496.455</td>\n",
       "      <td>3,360.732</td>\n",
       "      <td>1,880.000</td>\n",
       "      <td>3,299.943</td>\n",
       "      <td>4,410.000</td>\n",
       "      <td>1,900.000</td>\n",
       "      <td>3,381.760</td>\n",
       "      <td>4,460.000</td>\n",
       "      <td>1,865.000</td>\n",
       "      <td>3,281.761</td>\n",
       "      <td>4,380.000</td>\n",
       "      <td>1,865.000</td>\n",
       "      <td>3,354.488</td>\n",
       "      <td>4,430.000</td>\n",
       "      <td>26,045,000.000</td>\n",
       "      <td>100241541</td>\n",
       "      <td>66,075,600.000</td>\n",
       "    </tr>\n",
       "    <tr>\n",
       "      <th>2018-01-03</th>\n",
       "      <td>577.828</td>\n",
       "      <td>2,482.700</td>\n",
       "      <td>3,223.559</td>\n",
       "      <td>1,830.000</td>\n",
       "      <td>3,281.761</td>\n",
       "      <td>4,230.000</td>\n",
       "      <td>1,890.000</td>\n",
       "      <td>3,299.943</td>\n",
       "      <td>4,380.000</td>\n",
       "      <td>1,810.000</td>\n",
       "      <td>3,236.308</td>\n",
       "      <td>4,200.000</td>\n",
       "      <td>1,890.000</td>\n",
       "      <td>3,299.943</td>\n",
       "      <td>4,380.000</td>\n",
       "      <td>35,595,000.000</td>\n",
       "      <td>77164902</td>\n",
       "      <td>129,205,000.000</td>\n",
       "    </tr>\n",
       "    <tr>\n",
       "      <th>2018-01-04</th>\n",
       "      <td>604.667</td>\n",
       "      <td>2,441.437</td>\n",
       "      <td>3,215.939</td>\n",
       "      <td>1,915.000</td>\n",
       "      <td>3,227.217</td>\n",
       "      <td>4,220.000</td>\n",
       "      <td>1,935.000</td>\n",
       "      <td>3,281.761</td>\n",
       "      <td>4,250.000</td>\n",
       "      <td>1,850.000</td>\n",
       "      <td>3,145.400</td>\n",
       "      <td>4,190.000</td>\n",
       "      <td>1,860.000</td>\n",
       "      <td>3,281.761</td>\n",
       "      <td>4,230.000</td>\n",
       "      <td>81,191,500.000</td>\n",
       "      <td>172049901</td>\n",
       "      <td>77,953,300.000</td>\n",
       "    </tr>\n",
       "    <tr>\n",
       "      <th>2018-01-05</th>\n",
       "      <td>628.348</td>\n",
       "      <td>2,468.946</td>\n",
       "      <td>3,261.663</td>\n",
       "      <td>1,990.000</td>\n",
       "      <td>3,263.580</td>\n",
       "      <td>4,280.000</td>\n",
       "      <td>1,990.000</td>\n",
       "      <td>3,263.580</td>\n",
       "      <td>4,280.000</td>\n",
       "      <td>1,935.000</td>\n",
       "      <td>3,199.945</td>\n",
       "      <td>4,200.000</td>\n",
       "      <td>1,935.000</td>\n",
       "      <td>3,227.217</td>\n",
       "      <td>4,220.000</td>\n",
       "      <td>112,355,500.000</td>\n",
       "      <td>95806814</td>\n",
       "      <td>55,863,000.000</td>\n",
       "    </tr>\n",
       "  </tbody>\n",
       "</table>\n",
       "</div>"
      ],
      "text/plain": [
       "Attributes Adj Close                         Close                      \\\n",
       "Symbols      ADRO.JK   BBRI.JK   TLKM.JK   ADRO.JK   BBRI.JK   TLKM.JK   \n",
       "Date                                                                     \n",
       "2018-01-01   587.300 2,503.332 3,383.594 1,860.000 3,309.034 4,440.000   \n",
       "2018-01-02   593.615 2,496.455 3,360.732 1,880.000 3,299.943 4,410.000   \n",
       "2018-01-03   577.828 2,482.700 3,223.559 1,830.000 3,281.761 4,230.000   \n",
       "2018-01-04   604.667 2,441.437 3,215.939 1,915.000 3,227.217 4,220.000   \n",
       "2018-01-05   628.348 2,468.946 3,261.663 1,990.000 3,263.580 4,280.000   \n",
       "\n",
       "Attributes      High                           Low                      \\\n",
       "Symbols      ADRO.JK   BBRI.JK   TLKM.JK   ADRO.JK   BBRI.JK   TLKM.JK   \n",
       "Date                                                                     \n",
       "2018-01-01 1,860.000 3,309.034 4,440.000 1,860.000 3,309.034 4,440.000   \n",
       "2018-01-02 1,900.000 3,381.760 4,460.000 1,865.000 3,281.761 4,380.000   \n",
       "2018-01-03 1,890.000 3,299.943 4,380.000 1,810.000 3,236.308 4,200.000   \n",
       "2018-01-04 1,935.000 3,281.761 4,250.000 1,850.000 3,145.400 4,190.000   \n",
       "2018-01-05 1,990.000 3,263.580 4,280.000 1,935.000 3,199.945 4,200.000   \n",
       "\n",
       "Attributes      Open                              Volume             \\\n",
       "Symbols      ADRO.JK   BBRI.JK   TLKM.JK         ADRO.JK    BBRI.JK   \n",
       "Date                                                                  \n",
       "2018-01-01 1,860.000 3,309.034 4,440.000           0.000          0   \n",
       "2018-01-02 1,865.000 3,354.488 4,430.000  26,045,000.000  100241541   \n",
       "2018-01-03 1,890.000 3,299.943 4,380.000  35,595,000.000   77164902   \n",
       "2018-01-04 1,860.000 3,281.761 4,230.000  81,191,500.000  172049901   \n",
       "2018-01-05 1,935.000 3,227.217 4,220.000 112,355,500.000   95806814   \n",
       "\n",
       "Attributes                  \n",
       "Symbols            TLKM.JK  \n",
       "Date                        \n",
       "2018-01-01           0.000  \n",
       "2018-01-02  66,075,600.000  \n",
       "2018-01-03 129,205,000.000  \n",
       "2018-01-04  77,953,300.000  \n",
       "2018-01-05  55,863,000.000  "
      ]
     },
     "execution_count": 14,
     "metadata": {},
     "output_type": "execute_result"
    }
   ],
   "source": [
    "stock.head()"
   ]
  },
  {
   "cell_type": "code",
   "execution_count": 15,
   "metadata": {},
   "outputs": [
    {
     "data": {
      "text/html": [
       "<div>\n",
       "<style scoped>\n",
       "    .dataframe tbody tr th:only-of-type {\n",
       "        vertical-align: middle;\n",
       "    }\n",
       "\n",
       "    .dataframe tbody tr th {\n",
       "        vertical-align: top;\n",
       "    }\n",
       "\n",
       "    .dataframe thead th {\n",
       "        text-align: right;\n",
       "    }\n",
       "</style>\n",
       "<table border=\"1\" class=\"dataframe\">\n",
       "  <thead>\n",
       "    <tr style=\"text-align: right;\">\n",
       "      <th>Symbols</th>\n",
       "      <th>ADRO.JK</th>\n",
       "      <th>BBRI.JK</th>\n",
       "      <th>TLKM.JK</th>\n",
       "    </tr>\n",
       "    <tr>\n",
       "      <th>Date</th>\n",
       "      <th></th>\n",
       "      <th></th>\n",
       "      <th></th>\n",
       "    </tr>\n",
       "  </thead>\n",
       "  <tbody>\n",
       "    <tr>\n",
       "      <th>2018-01-01</th>\n",
       "      <td>1,860.000</td>\n",
       "      <td>3,309.034</td>\n",
       "      <td>4,440.000</td>\n",
       "    </tr>\n",
       "    <tr>\n",
       "      <th>2018-01-02</th>\n",
       "      <td>1,880.000</td>\n",
       "      <td>3,299.943</td>\n",
       "      <td>4,410.000</td>\n",
       "    </tr>\n",
       "    <tr>\n",
       "      <th>2018-01-03</th>\n",
       "      <td>1,830.000</td>\n",
       "      <td>3,281.761</td>\n",
       "      <td>4,230.000</td>\n",
       "    </tr>\n",
       "    <tr>\n",
       "      <th>2018-01-04</th>\n",
       "      <td>1,915.000</td>\n",
       "      <td>3,227.217</td>\n",
       "      <td>4,220.000</td>\n",
       "    </tr>\n",
       "    <tr>\n",
       "      <th>2018-01-05</th>\n",
       "      <td>1,990.000</td>\n",
       "      <td>3,263.580</td>\n",
       "      <td>4,280.000</td>\n",
       "    </tr>\n",
       "    <tr>\n",
       "      <th>...</th>\n",
       "      <td>...</td>\n",
       "      <td>...</td>\n",
       "      <td>...</td>\n",
       "    </tr>\n",
       "    <tr>\n",
       "      <th>2023-12-21</th>\n",
       "      <td>2,600.000</td>\n",
       "      <td>5,575.000</td>\n",
       "      <td>3,950.000</td>\n",
       "    </tr>\n",
       "    <tr>\n",
       "      <th>2023-12-22</th>\n",
       "      <td>2,590.000</td>\n",
       "      <td>5,675.000</td>\n",
       "      <td>3,960.000</td>\n",
       "    </tr>\n",
       "    <tr>\n",
       "      <th>2023-12-27</th>\n",
       "      <td>2,590.000</td>\n",
       "      <td>5,625.000</td>\n",
       "      <td>3,940.000</td>\n",
       "    </tr>\n",
       "    <tr>\n",
       "      <th>2023-12-28</th>\n",
       "      <td>2,580.000</td>\n",
       "      <td>5,725.000</td>\n",
       "      <td>3,960.000</td>\n",
       "    </tr>\n",
       "    <tr>\n",
       "      <th>2023-12-29</th>\n",
       "      <td>2,380.000</td>\n",
       "      <td>5,725.000</td>\n",
       "      <td>3,950.000</td>\n",
       "    </tr>\n",
       "  </tbody>\n",
       "</table>\n",
       "<p>1493 rows × 3 columns</p>\n",
       "</div>"
      ],
      "text/plain": [
       "Symbols      ADRO.JK   BBRI.JK   TLKM.JK\n",
       "Date                                    \n",
       "2018-01-01 1,860.000 3,309.034 4,440.000\n",
       "2018-01-02 1,880.000 3,299.943 4,410.000\n",
       "2018-01-03 1,830.000 3,281.761 4,230.000\n",
       "2018-01-04 1,915.000 3,227.217 4,220.000\n",
       "2018-01-05 1,990.000 3,263.580 4,280.000\n",
       "...              ...       ...       ...\n",
       "2023-12-21 2,600.000 5,575.000 3,950.000\n",
       "2023-12-22 2,590.000 5,675.000 3,960.000\n",
       "2023-12-27 2,590.000 5,625.000 3,940.000\n",
       "2023-12-28 2,580.000 5,725.000 3,960.000\n",
       "2023-12-29 2,380.000 5,725.000 3,950.000\n",
       "\n",
       "[1493 rows x 3 columns]"
      ]
     },
     "execution_count": 15,
     "metadata": {},
     "output_type": "execute_result"
    }
   ],
   "source": [
    "# subsetting dengan []\n",
    "# kode Pak Hadiat\n",
    "\n",
    "stock['Close']"
   ]
  },
  {
   "cell_type": "markdown",
   "metadata": {},
   "source": [
    "> ❓ Mas Arkana telah berhasil untuk mengambil detail `Close` untuk  ketiga perusahaan. Bagaimana cara mengambil detail `Close` untuk BRI saja?"
   ]
  },
  {
   "cell_type": "code",
   "execution_count": 16,
   "metadata": {},
   "outputs": [
    {
     "data": {
      "text/plain": [
       "Date\n",
       "2018-01-01   3,309.034\n",
       "2018-01-02   3,299.943\n",
       "2018-01-03   3,281.761\n",
       "2018-01-04   3,227.217\n",
       "2018-01-05   3,263.580\n",
       "                ...   \n",
       "2023-12-21   5,575.000\n",
       "2023-12-22   5,675.000\n",
       "2023-12-27   5,625.000\n",
       "2023-12-28   5,725.000\n",
       "2023-12-29   5,725.000\n",
       "Name: (Close, BBRI.JK), Length: 1493, dtype: float64"
      ]
     },
     "execution_count": 16,
     "metadata": {},
     "output_type": "execute_result"
    }
   ],
   "source": [
    "# untuk menampilkan dalam bentuk series\n",
    "# kode Pak Hadiat\n",
    "\n",
    "stock['Close','BBRI.JK']"
   ]
  },
  {
   "cell_type": "code",
   "execution_count": 17,
   "metadata": {},
   "outputs": [
    {
     "data": {
      "text/html": [
       "<div>\n",
       "<style scoped>\n",
       "    .dataframe tbody tr th:only-of-type {\n",
       "        vertical-align: middle;\n",
       "    }\n",
       "\n",
       "    .dataframe tbody tr th {\n",
       "        vertical-align: top;\n",
       "    }\n",
       "\n",
       "    .dataframe thead th {\n",
       "        text-align: right;\n",
       "    }\n",
       "</style>\n",
       "<table border=\"1\" class=\"dataframe\">\n",
       "  <thead>\n",
       "    <tr style=\"text-align: right;\">\n",
       "      <th>Symbols</th>\n",
       "      <th>BBRI.JK</th>\n",
       "    </tr>\n",
       "    <tr>\n",
       "      <th>Date</th>\n",
       "      <th></th>\n",
       "    </tr>\n",
       "  </thead>\n",
       "  <tbody>\n",
       "    <tr>\n",
       "      <th>2018-01-01</th>\n",
       "      <td>3,309.034</td>\n",
       "    </tr>\n",
       "    <tr>\n",
       "      <th>2018-01-02</th>\n",
       "      <td>3,299.943</td>\n",
       "    </tr>\n",
       "    <tr>\n",
       "      <th>2018-01-03</th>\n",
       "      <td>3,281.761</td>\n",
       "    </tr>\n",
       "    <tr>\n",
       "      <th>2018-01-04</th>\n",
       "      <td>3,227.217</td>\n",
       "    </tr>\n",
       "    <tr>\n",
       "      <th>2018-01-05</th>\n",
       "      <td>3,263.580</td>\n",
       "    </tr>\n",
       "    <tr>\n",
       "      <th>...</th>\n",
       "      <td>...</td>\n",
       "    </tr>\n",
       "    <tr>\n",
       "      <th>2023-12-21</th>\n",
       "      <td>5,575.000</td>\n",
       "    </tr>\n",
       "    <tr>\n",
       "      <th>2023-12-22</th>\n",
       "      <td>5,675.000</td>\n",
       "    </tr>\n",
       "    <tr>\n",
       "      <th>2023-12-27</th>\n",
       "      <td>5,625.000</td>\n",
       "    </tr>\n",
       "    <tr>\n",
       "      <th>2023-12-28</th>\n",
       "      <td>5,725.000</td>\n",
       "    </tr>\n",
       "    <tr>\n",
       "      <th>2023-12-29</th>\n",
       "      <td>5,725.000</td>\n",
       "    </tr>\n",
       "  </tbody>\n",
       "</table>\n",
       "<p>1493 rows × 1 columns</p>\n",
       "</div>"
      ],
      "text/plain": [
       "Symbols      BBRI.JK\n",
       "Date                \n",
       "2018-01-01 3,309.034\n",
       "2018-01-02 3,299.943\n",
       "2018-01-03 3,281.761\n",
       "2018-01-04 3,227.217\n",
       "2018-01-05 3,263.580\n",
       "...              ...\n",
       "2023-12-21 5,575.000\n",
       "2023-12-22 5,675.000\n",
       "2023-12-27 5,625.000\n",
       "2023-12-28 5,725.000\n",
       "2023-12-29 5,725.000\n",
       "\n",
       "[1493 rows x 1 columns]"
      ]
     },
     "execution_count": 17,
     "metadata": {},
     "output_type": "execute_result"
    }
   ],
   "source": [
    "# untuk menampilkan dalam bentuk dataframe\n",
    "stock['Close'][['BBRI.JK']]"
   ]
  },
  {
   "cell_type": "markdown",
   "metadata": {},
   "source": [
    "> ❓ Mas Arkana berhasil untuk mengambil detail `Close` untuk BRI dengan melakukan 2x *subsetting*. Sekarang, Mas Arkana ingin menganalisis semua *attribute* untuk BRI, mulai dari `Adj.Close` hingga `Volume`. Pendekatan seperti apa yang dapat dilakukan oleh Mas Arkana? "
   ]
  },
  {
   "cell_type": "code",
   "execution_count": 18,
   "metadata": {},
   "outputs": [
    {
     "data": {
      "text/html": [
       "<div>\n",
       "<style scoped>\n",
       "    .dataframe tbody tr th:only-of-type {\n",
       "        vertical-align: middle;\n",
       "    }\n",
       "\n",
       "    .dataframe tbody tr th {\n",
       "        vertical-align: top;\n",
       "    }\n",
       "\n",
       "    .dataframe thead tr th {\n",
       "        text-align: left;\n",
       "    }\n",
       "\n",
       "    .dataframe thead tr:last-of-type th {\n",
       "        text-align: right;\n",
       "    }\n",
       "</style>\n",
       "<table border=\"1\" class=\"dataframe\">\n",
       "  <thead>\n",
       "    <tr>\n",
       "      <th>Attributes</th>\n",
       "      <th colspan=\"3\" halign=\"left\">Adj Close</th>\n",
       "      <th colspan=\"3\" halign=\"left\">Close</th>\n",
       "      <th colspan=\"3\" halign=\"left\">High</th>\n",
       "      <th colspan=\"3\" halign=\"left\">Low</th>\n",
       "      <th colspan=\"3\" halign=\"left\">Open</th>\n",
       "      <th colspan=\"3\" halign=\"left\">Volume</th>\n",
       "    </tr>\n",
       "    <tr>\n",
       "      <th>Symbols</th>\n",
       "      <th>ADRO.JK</th>\n",
       "      <th>BBRI.JK</th>\n",
       "      <th>TLKM.JK</th>\n",
       "      <th>ADRO.JK</th>\n",
       "      <th>BBRI.JK</th>\n",
       "      <th>TLKM.JK</th>\n",
       "      <th>ADRO.JK</th>\n",
       "      <th>BBRI.JK</th>\n",
       "      <th>TLKM.JK</th>\n",
       "      <th>ADRO.JK</th>\n",
       "      <th>BBRI.JK</th>\n",
       "      <th>TLKM.JK</th>\n",
       "      <th>ADRO.JK</th>\n",
       "      <th>BBRI.JK</th>\n",
       "      <th>TLKM.JK</th>\n",
       "      <th>ADRO.JK</th>\n",
       "      <th>BBRI.JK</th>\n",
       "      <th>TLKM.JK</th>\n",
       "    </tr>\n",
       "    <tr>\n",
       "      <th>Date</th>\n",
       "      <th></th>\n",
       "      <th></th>\n",
       "      <th></th>\n",
       "      <th></th>\n",
       "      <th></th>\n",
       "      <th></th>\n",
       "      <th></th>\n",
       "      <th></th>\n",
       "      <th></th>\n",
       "      <th></th>\n",
       "      <th></th>\n",
       "      <th></th>\n",
       "      <th></th>\n",
       "      <th></th>\n",
       "      <th></th>\n",
       "      <th></th>\n",
       "      <th></th>\n",
       "      <th></th>\n",
       "    </tr>\n",
       "  </thead>\n",
       "  <tbody>\n",
       "    <tr>\n",
       "      <th>2018-01-01</th>\n",
       "      <td>587.300</td>\n",
       "      <td>2,503.332</td>\n",
       "      <td>3,383.594</td>\n",
       "      <td>1,860.000</td>\n",
       "      <td>3,309.034</td>\n",
       "      <td>4,440.000</td>\n",
       "      <td>1,860.000</td>\n",
       "      <td>3,309.034</td>\n",
       "      <td>4,440.000</td>\n",
       "      <td>1,860.000</td>\n",
       "      <td>3,309.034</td>\n",
       "      <td>4,440.000</td>\n",
       "      <td>1,860.000</td>\n",
       "      <td>3,309.034</td>\n",
       "      <td>4,440.000</td>\n",
       "      <td>0.000</td>\n",
       "      <td>0</td>\n",
       "      <td>0.000</td>\n",
       "    </tr>\n",
       "    <tr>\n",
       "      <th>2018-01-02</th>\n",
       "      <td>593.615</td>\n",
       "      <td>2,496.455</td>\n",
       "      <td>3,360.732</td>\n",
       "      <td>1,880.000</td>\n",
       "      <td>3,299.943</td>\n",
       "      <td>4,410.000</td>\n",
       "      <td>1,900.000</td>\n",
       "      <td>3,381.760</td>\n",
       "      <td>4,460.000</td>\n",
       "      <td>1,865.000</td>\n",
       "      <td>3,281.761</td>\n",
       "      <td>4,380.000</td>\n",
       "      <td>1,865.000</td>\n",
       "      <td>3,354.488</td>\n",
       "      <td>4,430.000</td>\n",
       "      <td>26,045,000.000</td>\n",
       "      <td>100241541</td>\n",
       "      <td>66,075,600.000</td>\n",
       "    </tr>\n",
       "    <tr>\n",
       "      <th>2018-01-03</th>\n",
       "      <td>577.828</td>\n",
       "      <td>2,482.700</td>\n",
       "      <td>3,223.559</td>\n",
       "      <td>1,830.000</td>\n",
       "      <td>3,281.761</td>\n",
       "      <td>4,230.000</td>\n",
       "      <td>1,890.000</td>\n",
       "      <td>3,299.943</td>\n",
       "      <td>4,380.000</td>\n",
       "      <td>1,810.000</td>\n",
       "      <td>3,236.308</td>\n",
       "      <td>4,200.000</td>\n",
       "      <td>1,890.000</td>\n",
       "      <td>3,299.943</td>\n",
       "      <td>4,380.000</td>\n",
       "      <td>35,595,000.000</td>\n",
       "      <td>77164902</td>\n",
       "      <td>129,205,000.000</td>\n",
       "    </tr>\n",
       "    <tr>\n",
       "      <th>2018-01-04</th>\n",
       "      <td>604.667</td>\n",
       "      <td>2,441.437</td>\n",
       "      <td>3,215.939</td>\n",
       "      <td>1,915.000</td>\n",
       "      <td>3,227.217</td>\n",
       "      <td>4,220.000</td>\n",
       "      <td>1,935.000</td>\n",
       "      <td>3,281.761</td>\n",
       "      <td>4,250.000</td>\n",
       "      <td>1,850.000</td>\n",
       "      <td>3,145.400</td>\n",
       "      <td>4,190.000</td>\n",
       "      <td>1,860.000</td>\n",
       "      <td>3,281.761</td>\n",
       "      <td>4,230.000</td>\n",
       "      <td>81,191,500.000</td>\n",
       "      <td>172049901</td>\n",
       "      <td>77,953,300.000</td>\n",
       "    </tr>\n",
       "    <tr>\n",
       "      <th>2018-01-05</th>\n",
       "      <td>628.348</td>\n",
       "      <td>2,468.946</td>\n",
       "      <td>3,261.663</td>\n",
       "      <td>1,990.000</td>\n",
       "      <td>3,263.580</td>\n",
       "      <td>4,280.000</td>\n",
       "      <td>1,990.000</td>\n",
       "      <td>3,263.580</td>\n",
       "      <td>4,280.000</td>\n",
       "      <td>1,935.000</td>\n",
       "      <td>3,199.945</td>\n",
       "      <td>4,200.000</td>\n",
       "      <td>1,935.000</td>\n",
       "      <td>3,227.217</td>\n",
       "      <td>4,220.000</td>\n",
       "      <td>112,355,500.000</td>\n",
       "      <td>95806814</td>\n",
       "      <td>55,863,000.000</td>\n",
       "    </tr>\n",
       "  </tbody>\n",
       "</table>\n",
       "</div>"
      ],
      "text/plain": [
       "Attributes Adj Close                         Close                      \\\n",
       "Symbols      ADRO.JK   BBRI.JK   TLKM.JK   ADRO.JK   BBRI.JK   TLKM.JK   \n",
       "Date                                                                     \n",
       "2018-01-01   587.300 2,503.332 3,383.594 1,860.000 3,309.034 4,440.000   \n",
       "2018-01-02   593.615 2,496.455 3,360.732 1,880.000 3,299.943 4,410.000   \n",
       "2018-01-03   577.828 2,482.700 3,223.559 1,830.000 3,281.761 4,230.000   \n",
       "2018-01-04   604.667 2,441.437 3,215.939 1,915.000 3,227.217 4,220.000   \n",
       "2018-01-05   628.348 2,468.946 3,261.663 1,990.000 3,263.580 4,280.000   \n",
       "\n",
       "Attributes      High                           Low                      \\\n",
       "Symbols      ADRO.JK   BBRI.JK   TLKM.JK   ADRO.JK   BBRI.JK   TLKM.JK   \n",
       "Date                                                                     \n",
       "2018-01-01 1,860.000 3,309.034 4,440.000 1,860.000 3,309.034 4,440.000   \n",
       "2018-01-02 1,900.000 3,381.760 4,460.000 1,865.000 3,281.761 4,380.000   \n",
       "2018-01-03 1,890.000 3,299.943 4,380.000 1,810.000 3,236.308 4,200.000   \n",
       "2018-01-04 1,935.000 3,281.761 4,250.000 1,850.000 3,145.400 4,190.000   \n",
       "2018-01-05 1,990.000 3,263.580 4,280.000 1,935.000 3,199.945 4,200.000   \n",
       "\n",
       "Attributes      Open                              Volume             \\\n",
       "Symbols      ADRO.JK   BBRI.JK   TLKM.JK         ADRO.JK    BBRI.JK   \n",
       "Date                                                                  \n",
       "2018-01-01 1,860.000 3,309.034 4,440.000           0.000          0   \n",
       "2018-01-02 1,865.000 3,354.488 4,430.000  26,045,000.000  100241541   \n",
       "2018-01-03 1,890.000 3,299.943 4,380.000  35,595,000.000   77164902   \n",
       "2018-01-04 1,860.000 3,281.761 4,230.000  81,191,500.000  172049901   \n",
       "2018-01-05 1,935.000 3,227.217 4,220.000 112,355,500.000   95806814   \n",
       "\n",
       "Attributes                  \n",
       "Symbols            TLKM.JK  \n",
       "Date                        \n",
       "2018-01-01           0.000  \n",
       "2018-01-02  66,075,600.000  \n",
       "2018-01-03 129,205,000.000  \n",
       "2018-01-04  77,953,300.000  \n",
       "2018-01-05  55,863,000.000  "
      ]
     },
     "execution_count": 18,
     "metadata": {},
     "output_type": "execute_result"
    }
   ],
   "source": [
    "stock.head()"
   ]
  },
  {
   "cell_type": "code",
   "execution_count": 19,
   "metadata": {},
   "outputs": [],
   "source": [
    "# coba subsetting dengan []\n",
    "# stock['BBRI.JK']"
   ]
  },
  {
   "cell_type": "markdown",
   "metadata": {},
   "source": [
    "Kita akan mendapatkan _error_ seperti di atas. _Subsetting_ menggunakan kurung siku ([ ]) bisa kita gunakan untuk level paling atas, yakni `Attributes`. `BBRI.JK` berada di level di bawahnya, yaitu `Symbols`. Untuk menyelesaikan permasalahan tersebut, kita akan menggunakan **_cross section_**."
   ]
  },
  {
   "cell_type": "markdown",
   "metadata": {},
   "source": [
    "> 📌Kita dapat menggunakan fungsi `.xs()` untuk melakukan _cross section_."
   ]
  },
  {
   "cell_type": "markdown",
   "metadata": {},
   "source": [
    "**🔎 Parameter Penting Fungsi `.xs()`**\n",
    "\n",
    "* `key`: label apa yang akan dicari.\n",
    "* `level`: label tersebut berada di level apa/berapa.\n",
    "* `axis`: level berada di baris (`axis = 0`) atau di kolom (`axis = 1`).\n",
    "* Parameter lainnya dapat dilihat pada [dokumentasi berikut](https://pandas.pydata.org/docs/reference/api/pandas.DataFrame.xs.html)."
   ]
  },
  {
   "cell_type": "code",
   "execution_count": 20,
   "metadata": {},
   "outputs": [
    {
     "data": {
      "text/html": [
       "<div>\n",
       "<style scoped>\n",
       "    .dataframe tbody tr th:only-of-type {\n",
       "        vertical-align: middle;\n",
       "    }\n",
       "\n",
       "    .dataframe tbody tr th {\n",
       "        vertical-align: top;\n",
       "    }\n",
       "\n",
       "    .dataframe thead tr th {\n",
       "        text-align: left;\n",
       "    }\n",
       "\n",
       "    .dataframe thead tr:last-of-type th {\n",
       "        text-align: right;\n",
       "    }\n",
       "</style>\n",
       "<table border=\"1\" class=\"dataframe\">\n",
       "  <thead>\n",
       "    <tr>\n",
       "      <th>Attributes</th>\n",
       "      <th colspan=\"3\" halign=\"left\">Adj Close</th>\n",
       "      <th colspan=\"3\" halign=\"left\">Close</th>\n",
       "      <th colspan=\"3\" halign=\"left\">High</th>\n",
       "      <th colspan=\"3\" halign=\"left\">Low</th>\n",
       "      <th colspan=\"3\" halign=\"left\">Open</th>\n",
       "      <th colspan=\"3\" halign=\"left\">Volume</th>\n",
       "    </tr>\n",
       "    <tr>\n",
       "      <th>Symbols</th>\n",
       "      <th>ADRO.JK</th>\n",
       "      <th>BBRI.JK</th>\n",
       "      <th>TLKM.JK</th>\n",
       "      <th>ADRO.JK</th>\n",
       "      <th>BBRI.JK</th>\n",
       "      <th>TLKM.JK</th>\n",
       "      <th>ADRO.JK</th>\n",
       "      <th>BBRI.JK</th>\n",
       "      <th>TLKM.JK</th>\n",
       "      <th>ADRO.JK</th>\n",
       "      <th>BBRI.JK</th>\n",
       "      <th>TLKM.JK</th>\n",
       "      <th>ADRO.JK</th>\n",
       "      <th>BBRI.JK</th>\n",
       "      <th>TLKM.JK</th>\n",
       "      <th>ADRO.JK</th>\n",
       "      <th>BBRI.JK</th>\n",
       "      <th>TLKM.JK</th>\n",
       "    </tr>\n",
       "    <tr>\n",
       "      <th>Date</th>\n",
       "      <th></th>\n",
       "      <th></th>\n",
       "      <th></th>\n",
       "      <th></th>\n",
       "      <th></th>\n",
       "      <th></th>\n",
       "      <th></th>\n",
       "      <th></th>\n",
       "      <th></th>\n",
       "      <th></th>\n",
       "      <th></th>\n",
       "      <th></th>\n",
       "      <th></th>\n",
       "      <th></th>\n",
       "      <th></th>\n",
       "      <th></th>\n",
       "      <th></th>\n",
       "      <th></th>\n",
       "    </tr>\n",
       "  </thead>\n",
       "  <tbody>\n",
       "    <tr>\n",
       "      <th>2018-01-01</th>\n",
       "      <td>587.300</td>\n",
       "      <td>2,503.332</td>\n",
       "      <td>3,383.594</td>\n",
       "      <td>1,860.000</td>\n",
       "      <td>3,309.034</td>\n",
       "      <td>4,440.000</td>\n",
       "      <td>1,860.000</td>\n",
       "      <td>3,309.034</td>\n",
       "      <td>4,440.000</td>\n",
       "      <td>1,860.000</td>\n",
       "      <td>3,309.034</td>\n",
       "      <td>4,440.000</td>\n",
       "      <td>1,860.000</td>\n",
       "      <td>3,309.034</td>\n",
       "      <td>4,440.000</td>\n",
       "      <td>0.000</td>\n",
       "      <td>0</td>\n",
       "      <td>0.000</td>\n",
       "    </tr>\n",
       "    <tr>\n",
       "      <th>2018-01-02</th>\n",
       "      <td>593.615</td>\n",
       "      <td>2,496.455</td>\n",
       "      <td>3,360.732</td>\n",
       "      <td>1,880.000</td>\n",
       "      <td>3,299.943</td>\n",
       "      <td>4,410.000</td>\n",
       "      <td>1,900.000</td>\n",
       "      <td>3,381.760</td>\n",
       "      <td>4,460.000</td>\n",
       "      <td>1,865.000</td>\n",
       "      <td>3,281.761</td>\n",
       "      <td>4,380.000</td>\n",
       "      <td>1,865.000</td>\n",
       "      <td>3,354.488</td>\n",
       "      <td>4,430.000</td>\n",
       "      <td>26,045,000.000</td>\n",
       "      <td>100241541</td>\n",
       "      <td>66,075,600.000</td>\n",
       "    </tr>\n",
       "  </tbody>\n",
       "</table>\n",
       "</div>"
      ],
      "text/plain": [
       "Attributes Adj Close                         Close                      \\\n",
       "Symbols      ADRO.JK   BBRI.JK   TLKM.JK   ADRO.JK   BBRI.JK   TLKM.JK   \n",
       "Date                                                                     \n",
       "2018-01-01   587.300 2,503.332 3,383.594 1,860.000 3,309.034 4,440.000   \n",
       "2018-01-02   593.615 2,496.455 3,360.732 1,880.000 3,299.943 4,410.000   \n",
       "\n",
       "Attributes      High                           Low                      \\\n",
       "Symbols      ADRO.JK   BBRI.JK   TLKM.JK   ADRO.JK   BBRI.JK   TLKM.JK   \n",
       "Date                                                                     \n",
       "2018-01-01 1,860.000 3,309.034 4,440.000 1,860.000 3,309.034 4,440.000   \n",
       "2018-01-02 1,900.000 3,381.760 4,460.000 1,865.000 3,281.761 4,380.000   \n",
       "\n",
       "Attributes      Open                             Volume             \\\n",
       "Symbols      ADRO.JK   BBRI.JK   TLKM.JK        ADRO.JK    BBRI.JK   \n",
       "Date                                                                 \n",
       "2018-01-01 1,860.000 3,309.034 4,440.000          0.000          0   \n",
       "2018-01-02 1,865.000 3,354.488 4,430.000 26,045,000.000  100241541   \n",
       "\n",
       "Attributes                 \n",
       "Symbols           TLKM.JK  \n",
       "Date                       \n",
       "2018-01-01          0.000  \n",
       "2018-01-02 66,075,600.000  "
      ]
     },
     "execution_count": 20,
     "metadata": {},
     "output_type": "execute_result"
    }
   ],
   "source": [
    "stock.head(2)"
   ]
  },
  {
   "cell_type": "code",
   "execution_count": 21,
   "metadata": {},
   "outputs": [
    {
     "data": {
      "text/html": [
       "<div>\n",
       "<style scoped>\n",
       "    .dataframe tbody tr th:only-of-type {\n",
       "        vertical-align: middle;\n",
       "    }\n",
       "\n",
       "    .dataframe tbody tr th {\n",
       "        vertical-align: top;\n",
       "    }\n",
       "\n",
       "    .dataframe thead th {\n",
       "        text-align: right;\n",
       "    }\n",
       "</style>\n",
       "<table border=\"1\" class=\"dataframe\">\n",
       "  <thead>\n",
       "    <tr style=\"text-align: right;\">\n",
       "      <th>Attributes</th>\n",
       "      <th>Adj Close</th>\n",
       "      <th>Close</th>\n",
       "      <th>High</th>\n",
       "      <th>Low</th>\n",
       "      <th>Open</th>\n",
       "      <th>Volume</th>\n",
       "    </tr>\n",
       "    <tr>\n",
       "      <th>Date</th>\n",
       "      <th></th>\n",
       "      <th></th>\n",
       "      <th></th>\n",
       "      <th></th>\n",
       "      <th></th>\n",
       "      <th></th>\n",
       "    </tr>\n",
       "  </thead>\n",
       "  <tbody>\n",
       "    <tr>\n",
       "      <th>2018-01-01</th>\n",
       "      <td>2,503.332</td>\n",
       "      <td>3,309.034</td>\n",
       "      <td>3,309.034</td>\n",
       "      <td>3,309.034</td>\n",
       "      <td>3,309.034</td>\n",
       "      <td>0</td>\n",
       "    </tr>\n",
       "    <tr>\n",
       "      <th>2018-01-02</th>\n",
       "      <td>2,496.455</td>\n",
       "      <td>3,299.943</td>\n",
       "      <td>3,381.760</td>\n",
       "      <td>3,281.761</td>\n",
       "      <td>3,354.488</td>\n",
       "      <td>100241541</td>\n",
       "    </tr>\n",
       "    <tr>\n",
       "      <th>2018-01-03</th>\n",
       "      <td>2,482.700</td>\n",
       "      <td>3,281.761</td>\n",
       "      <td>3,299.943</td>\n",
       "      <td>3,236.308</td>\n",
       "      <td>3,299.943</td>\n",
       "      <td>77164902</td>\n",
       "    </tr>\n",
       "    <tr>\n",
       "      <th>2018-01-04</th>\n",
       "      <td>2,441.437</td>\n",
       "      <td>3,227.217</td>\n",
       "      <td>3,281.761</td>\n",
       "      <td>3,145.400</td>\n",
       "      <td>3,281.761</td>\n",
       "      <td>172049901</td>\n",
       "    </tr>\n",
       "    <tr>\n",
       "      <th>2018-01-05</th>\n",
       "      <td>2,468.946</td>\n",
       "      <td>3,263.580</td>\n",
       "      <td>3,263.580</td>\n",
       "      <td>3,199.945</td>\n",
       "      <td>3,227.217</td>\n",
       "      <td>95806814</td>\n",
       "    </tr>\n",
       "    <tr>\n",
       "      <th>...</th>\n",
       "      <td>...</td>\n",
       "      <td>...</td>\n",
       "      <td>...</td>\n",
       "      <td>...</td>\n",
       "      <td>...</td>\n",
       "      <td>...</td>\n",
       "    </tr>\n",
       "    <tr>\n",
       "      <th>2023-12-21</th>\n",
       "      <td>5,291.497</td>\n",
       "      <td>5,575.000</td>\n",
       "      <td>5,600.000</td>\n",
       "      <td>5,525.000</td>\n",
       "      <td>5,550.000</td>\n",
       "      <td>99049600</td>\n",
       "    </tr>\n",
       "    <tr>\n",
       "      <th>2023-12-22</th>\n",
       "      <td>5,386.412</td>\n",
       "      <td>5,675.000</td>\n",
       "      <td>5,700.000</td>\n",
       "      <td>5,600.000</td>\n",
       "      <td>5,650.000</td>\n",
       "      <td>109411300</td>\n",
       "    </tr>\n",
       "    <tr>\n",
       "      <th>2023-12-27</th>\n",
       "      <td>5,338.955</td>\n",
       "      <td>5,625.000</td>\n",
       "      <td>5,725.000</td>\n",
       "      <td>5,625.000</td>\n",
       "      <td>5,700.000</td>\n",
       "      <td>122236700</td>\n",
       "    </tr>\n",
       "    <tr>\n",
       "      <th>2023-12-28</th>\n",
       "      <td>5,433.869</td>\n",
       "      <td>5,725.000</td>\n",
       "      <td>5,750.000</td>\n",
       "      <td>5,675.000</td>\n",
       "      <td>5,700.000</td>\n",
       "      <td>121434600</td>\n",
       "    </tr>\n",
       "    <tr>\n",
       "      <th>2023-12-29</th>\n",
       "      <td>5,433.869</td>\n",
       "      <td>5,725.000</td>\n",
       "      <td>5,750.000</td>\n",
       "      <td>5,675.000</td>\n",
       "      <td>5,750.000</td>\n",
       "      <td>93126000</td>\n",
       "    </tr>\n",
       "  </tbody>\n",
       "</table>\n",
       "<p>1493 rows × 6 columns</p>\n",
       "</div>"
      ],
      "text/plain": [
       "Attributes  Adj Close     Close      High       Low      Open     Volume\n",
       "Date                                                                    \n",
       "2018-01-01  2,503.332 3,309.034 3,309.034 3,309.034 3,309.034          0\n",
       "2018-01-02  2,496.455 3,299.943 3,381.760 3,281.761 3,354.488  100241541\n",
       "2018-01-03  2,482.700 3,281.761 3,299.943 3,236.308 3,299.943   77164902\n",
       "2018-01-04  2,441.437 3,227.217 3,281.761 3,145.400 3,281.761  172049901\n",
       "2018-01-05  2,468.946 3,263.580 3,263.580 3,199.945 3,227.217   95806814\n",
       "...               ...       ...       ...       ...       ...        ...\n",
       "2023-12-21  5,291.497 5,575.000 5,600.000 5,525.000 5,550.000   99049600\n",
       "2023-12-22  5,386.412 5,675.000 5,700.000 5,600.000 5,650.000  109411300\n",
       "2023-12-27  5,338.955 5,625.000 5,725.000 5,625.000 5,700.000  122236700\n",
       "2023-12-28  5,433.869 5,725.000 5,750.000 5,675.000 5,700.000  121434600\n",
       "2023-12-29  5,433.869 5,725.000 5,750.000 5,675.000 5,750.000   93126000\n",
       "\n",
       "[1493 rows x 6 columns]"
      ]
     },
     "execution_count": 21,
     "metadata": {},
     "output_type": "execute_result"
    }
   ],
   "source": [
    "# mengambil semua attributes untuk BBRI.JK dengan .xs()\n",
    "stock.xs(\n",
    "    key = 'BBRI.JK',\n",
    "    level = 1,\n",
    "    axis = 1\n",
    ")"
   ]
  },
  {
   "cell_type": "markdown",
   "metadata": {},
   "source": [
    "### 🧪 Knowledge Check: `.xs()` for Cross Section"
   ]
  },
  {
   "cell_type": "markdown",
   "metadata": {},
   "source": [
    "Ambil semua data yang berhubungan dengan Telkom pada Oktober 2023!\n",
    "\n",
    "***Hint***: Untuk mengambil data di bulan Oktober 2023 saja, gunakan `.loc[]`."
   ]
  },
  {
   "cell_type": "code",
   "execution_count": 22,
   "metadata": {},
   "outputs": [],
   "source": [
    "# code here: fill in the blank\n",
    "# kode Pak Wisnu dan Pak Hadiat\n",
    "tlkm_okt_2023 = stock.xs(key = 'TLKM.JK',\n",
    "                        level = 1,\n",
    "                        axis = 1).loc['2023-10',:]"
   ]
  },
  {
   "cell_type": "code",
   "execution_count": 23,
   "metadata": {},
   "outputs": [
    {
     "data": {
      "text/html": [
       "<div>\n",
       "<style scoped>\n",
       "    .dataframe tbody tr th:only-of-type {\n",
       "        vertical-align: middle;\n",
       "    }\n",
       "\n",
       "    .dataframe tbody tr th {\n",
       "        vertical-align: top;\n",
       "    }\n",
       "\n",
       "    .dataframe thead th {\n",
       "        text-align: right;\n",
       "    }\n",
       "</style>\n",
       "<table border=\"1\" class=\"dataframe\">\n",
       "  <thead>\n",
       "    <tr style=\"text-align: right;\">\n",
       "      <th>Attributes</th>\n",
       "      <th>Adj Close</th>\n",
       "      <th>Close</th>\n",
       "      <th>High</th>\n",
       "      <th>Low</th>\n",
       "      <th>Open</th>\n",
       "      <th>Volume</th>\n",
       "    </tr>\n",
       "    <tr>\n",
       "      <th>Date</th>\n",
       "      <th></th>\n",
       "      <th></th>\n",
       "      <th></th>\n",
       "      <th></th>\n",
       "      <th></th>\n",
       "      <th></th>\n",
       "    </tr>\n",
       "  </thead>\n",
       "  <tbody>\n",
       "    <tr>\n",
       "      <th>2023-10-02</th>\n",
       "      <td>3,534.067</td>\n",
       "      <td>3,750.000</td>\n",
       "      <td>3,780.000</td>\n",
       "      <td>3,730.000</td>\n",
       "      <td>3,750.000</td>\n",
       "      <td>71,945,000.000</td>\n",
       "    </tr>\n",
       "    <tr>\n",
       "      <th>2023-10-03</th>\n",
       "      <td>3,552.916</td>\n",
       "      <td>3,770.000</td>\n",
       "      <td>3,800.000</td>\n",
       "      <td>3,740.000</td>\n",
       "      <td>3,750.000</td>\n",
       "      <td>61,155,100.000</td>\n",
       "    </tr>\n",
       "    <tr>\n",
       "      <th>2023-10-04</th>\n",
       "      <td>3,562.340</td>\n",
       "      <td>3,780.000</td>\n",
       "      <td>3,800.000</td>\n",
       "      <td>3,740.000</td>\n",
       "      <td>3,800.000</td>\n",
       "      <td>77,527,700.000</td>\n",
       "    </tr>\n",
       "    <tr>\n",
       "      <th>2023-10-05</th>\n",
       "      <td>3,505.795</td>\n",
       "      <td>3,720.000</td>\n",
       "      <td>3,800.000</td>\n",
       "      <td>3,720.000</td>\n",
       "      <td>3,790.000</td>\n",
       "      <td>81,258,900.000</td>\n",
       "    </tr>\n",
       "    <tr>\n",
       "      <th>2023-10-06</th>\n",
       "      <td>3,562.340</td>\n",
       "      <td>3,780.000</td>\n",
       "      <td>3,800.000</td>\n",
       "      <td>3,770.000</td>\n",
       "      <td>3,780.000</td>\n",
       "      <td>60,156,100.000</td>\n",
       "    </tr>\n",
       "  </tbody>\n",
       "</table>\n",
       "</div>"
      ],
      "text/plain": [
       "Attributes  Adj Close     Close      High       Low      Open         Volume\n",
       "Date                                                                        \n",
       "2023-10-02  3,534.067 3,750.000 3,780.000 3,730.000 3,750.000 71,945,000.000\n",
       "2023-10-03  3,552.916 3,770.000 3,800.000 3,740.000 3,750.000 61,155,100.000\n",
       "2023-10-04  3,562.340 3,780.000 3,800.000 3,740.000 3,800.000 77,527,700.000\n",
       "2023-10-05  3,505.795 3,720.000 3,800.000 3,720.000 3,790.000 81,258,900.000\n",
       "2023-10-06  3,562.340 3,780.000 3,800.000 3,770.000 3,780.000 60,156,100.000"
      ]
     },
     "execution_count": 23,
     "metadata": {},
     "output_type": "execute_result"
    }
   ],
   "source": [
    "tlkm_okt_2023.head()"
   ]
  },
  {
   "cell_type": "code",
   "execution_count": 24,
   "metadata": {},
   "outputs": [
    {
     "data": {
      "text/html": [
       "<div>\n",
       "<style scoped>\n",
       "    .dataframe tbody tr th:only-of-type {\n",
       "        vertical-align: middle;\n",
       "    }\n",
       "\n",
       "    .dataframe tbody tr th {\n",
       "        vertical-align: top;\n",
       "    }\n",
       "\n",
       "    .dataframe thead th {\n",
       "        text-align: right;\n",
       "    }\n",
       "</style>\n",
       "<table border=\"1\" class=\"dataframe\">\n",
       "  <thead>\n",
       "    <tr style=\"text-align: right;\">\n",
       "      <th>Attributes</th>\n",
       "      <th>Adj Close</th>\n",
       "      <th>Close</th>\n",
       "      <th>High</th>\n",
       "      <th>Low</th>\n",
       "      <th>Open</th>\n",
       "      <th>Volume</th>\n",
       "    </tr>\n",
       "    <tr>\n",
       "      <th>Date</th>\n",
       "      <th></th>\n",
       "      <th></th>\n",
       "      <th></th>\n",
       "      <th></th>\n",
       "      <th></th>\n",
       "      <th></th>\n",
       "    </tr>\n",
       "  </thead>\n",
       "  <tbody>\n",
       "    <tr>\n",
       "      <th>2023-10-25</th>\n",
       "      <td>3,392.705</td>\n",
       "      <td>3,600.000</td>\n",
       "      <td>3,680.000</td>\n",
       "      <td>3,580.000</td>\n",
       "      <td>3,650.000</td>\n",
       "      <td>89,567,900.000</td>\n",
       "    </tr>\n",
       "    <tr>\n",
       "      <th>2023-10-26</th>\n",
       "      <td>3,279.615</td>\n",
       "      <td>3,480.000</td>\n",
       "      <td>3,610.000</td>\n",
       "      <td>3,460.000</td>\n",
       "      <td>3,600.000</td>\n",
       "      <td>141,139,700.000</td>\n",
       "    </tr>\n",
       "    <tr>\n",
       "      <th>2023-10-27</th>\n",
       "      <td>3,298.463</td>\n",
       "      <td>3,500.000</td>\n",
       "      <td>3,530.000</td>\n",
       "      <td>3,440.000</td>\n",
       "      <td>3,480.000</td>\n",
       "      <td>99,607,000.000</td>\n",
       "    </tr>\n",
       "    <tr>\n",
       "      <th>2023-10-30</th>\n",
       "      <td>3,223.070</td>\n",
       "      <td>3,420.000</td>\n",
       "      <td>3,500.000</td>\n",
       "      <td>3,390.000</td>\n",
       "      <td>3,500.000</td>\n",
       "      <td>82,945,500.000</td>\n",
       "    </tr>\n",
       "    <tr>\n",
       "      <th>2023-10-31</th>\n",
       "      <td>3,289.039</td>\n",
       "      <td>3,490.000</td>\n",
       "      <td>3,510.000</td>\n",
       "      <td>3,400.000</td>\n",
       "      <td>3,400.000</td>\n",
       "      <td>66,801,600.000</td>\n",
       "    </tr>\n",
       "  </tbody>\n",
       "</table>\n",
       "</div>"
      ],
      "text/plain": [
       "Attributes  Adj Close     Close      High       Low      Open          Volume\n",
       "Date                                                                         \n",
       "2023-10-25  3,392.705 3,600.000 3,680.000 3,580.000 3,650.000  89,567,900.000\n",
       "2023-10-26  3,279.615 3,480.000 3,610.000 3,460.000 3,600.000 141,139,700.000\n",
       "2023-10-27  3,298.463 3,500.000 3,530.000 3,440.000 3,480.000  99,607,000.000\n",
       "2023-10-30  3,223.070 3,420.000 3,500.000 3,390.000 3,500.000  82,945,500.000\n",
       "2023-10-31  3,289.039 3,490.000 3,510.000 3,400.000 3,400.000  66,801,600.000"
      ]
     },
     "execution_count": 24,
     "metadata": {},
     "output_type": "execute_result"
    }
   ],
   "source": [
    "tlkm_okt_2023.tail()"
   ]
  },
  {
   "cell_type": "code",
   "execution_count": 25,
   "metadata": {},
   "outputs": [
    {
     "data": {
      "text/html": [
       "<div>\n",
       "<style scoped>\n",
       "    .dataframe tbody tr th:only-of-type {\n",
       "        vertical-align: middle;\n",
       "    }\n",
       "\n",
       "    .dataframe tbody tr th {\n",
       "        vertical-align: top;\n",
       "    }\n",
       "\n",
       "    .dataframe thead th {\n",
       "        text-align: right;\n",
       "    }\n",
       "</style>\n",
       "<table border=\"1\" class=\"dataframe\">\n",
       "  <thead>\n",
       "    <tr style=\"text-align: right;\">\n",
       "      <th>Attributes</th>\n",
       "      <th>Adj Close</th>\n",
       "      <th>Close</th>\n",
       "      <th>High</th>\n",
       "      <th>Low</th>\n",
       "      <th>Open</th>\n",
       "      <th>Volume</th>\n",
       "    </tr>\n",
       "    <tr>\n",
       "      <th>Date</th>\n",
       "      <th></th>\n",
       "      <th></th>\n",
       "      <th></th>\n",
       "      <th></th>\n",
       "      <th></th>\n",
       "      <th></th>\n",
       "    </tr>\n",
       "  </thead>\n",
       "  <tbody>\n",
       "    <tr>\n",
       "      <th>2023-10-02</th>\n",
       "      <td>3,534.067</td>\n",
       "      <td>3,750.000</td>\n",
       "      <td>3,780.000</td>\n",
       "      <td>3,730.000</td>\n",
       "      <td>3,750.000</td>\n",
       "      <td>71,945,000.000</td>\n",
       "    </tr>\n",
       "    <tr>\n",
       "      <th>2023-10-03</th>\n",
       "      <td>3,552.916</td>\n",
       "      <td>3,770.000</td>\n",
       "      <td>3,800.000</td>\n",
       "      <td>3,740.000</td>\n",
       "      <td>3,750.000</td>\n",
       "      <td>61,155,100.000</td>\n",
       "    </tr>\n",
       "    <tr>\n",
       "      <th>2023-10-04</th>\n",
       "      <td>3,562.340</td>\n",
       "      <td>3,780.000</td>\n",
       "      <td>3,800.000</td>\n",
       "      <td>3,740.000</td>\n",
       "      <td>3,800.000</td>\n",
       "      <td>77,527,700.000</td>\n",
       "    </tr>\n",
       "    <tr>\n",
       "      <th>2023-10-05</th>\n",
       "      <td>3,505.795</td>\n",
       "      <td>3,720.000</td>\n",
       "      <td>3,800.000</td>\n",
       "      <td>3,720.000</td>\n",
       "      <td>3,790.000</td>\n",
       "      <td>81,258,900.000</td>\n",
       "    </tr>\n",
       "    <tr>\n",
       "      <th>2023-10-06</th>\n",
       "      <td>3,562.340</td>\n",
       "      <td>3,780.000</td>\n",
       "      <td>3,800.000</td>\n",
       "      <td>3,770.000</td>\n",
       "      <td>3,780.000</td>\n",
       "      <td>60,156,100.000</td>\n",
       "    </tr>\n",
       "    <tr>\n",
       "      <th>2023-10-09</th>\n",
       "      <td>3,543.492</td>\n",
       "      <td>3,760.000</td>\n",
       "      <td>3,780.000</td>\n",
       "      <td>3,750.000</td>\n",
       "      <td>3,770.000</td>\n",
       "      <td>37,711,400.000</td>\n",
       "    </tr>\n",
       "    <tr>\n",
       "      <th>2023-10-10</th>\n",
       "      <td>3,590.613</td>\n",
       "      <td>3,810.000</td>\n",
       "      <td>3,820.000</td>\n",
       "      <td>3,770.000</td>\n",
       "      <td>3,780.000</td>\n",
       "      <td>51,167,900.000</td>\n",
       "    </tr>\n",
       "    <tr>\n",
       "      <th>2023-10-11</th>\n",
       "      <td>3,562.340</td>\n",
       "      <td>3,780.000</td>\n",
       "      <td>3,810.000</td>\n",
       "      <td>3,780.000</td>\n",
       "      <td>3,780.000</td>\n",
       "      <td>83,154,300.000</td>\n",
       "    </tr>\n",
       "    <tr>\n",
       "      <th>2023-10-12</th>\n",
       "      <td>3,609.461</td>\n",
       "      <td>3,830.000</td>\n",
       "      <td>3,870.000</td>\n",
       "      <td>3,800.000</td>\n",
       "      <td>3,820.000</td>\n",
       "      <td>101,645,100.000</td>\n",
       "    </tr>\n",
       "    <tr>\n",
       "      <th>2023-10-13</th>\n",
       "      <td>3,628.309</td>\n",
       "      <td>3,850.000</td>\n",
       "      <td>3,850.000</td>\n",
       "      <td>3,810.000</td>\n",
       "      <td>3,820.000</td>\n",
       "      <td>48,856,500.000</td>\n",
       "    </tr>\n",
       "    <tr>\n",
       "      <th>2023-10-16</th>\n",
       "      <td>3,543.492</td>\n",
       "      <td>3,760.000</td>\n",
       "      <td>3,850.000</td>\n",
       "      <td>3,740.000</td>\n",
       "      <td>3,850.000</td>\n",
       "      <td>117,472,800.000</td>\n",
       "    </tr>\n",
       "    <tr>\n",
       "      <th>2023-10-17</th>\n",
       "      <td>3,571.764</td>\n",
       "      <td>3,790.000</td>\n",
       "      <td>3,810.000</td>\n",
       "      <td>3,770.000</td>\n",
       "      <td>3,780.000</td>\n",
       "      <td>57,046,900.000</td>\n",
       "    </tr>\n",
       "    <tr>\n",
       "      <th>2023-10-18</th>\n",
       "      <td>3,534.067</td>\n",
       "      <td>3,750.000</td>\n",
       "      <td>3,780.000</td>\n",
       "      <td>3,730.000</td>\n",
       "      <td>3,770.000</td>\n",
       "      <td>64,910,600.000</td>\n",
       "    </tr>\n",
       "    <tr>\n",
       "      <th>2023-10-19</th>\n",
       "      <td>3,515.219</td>\n",
       "      <td>3,730.000</td>\n",
       "      <td>3,760.000</td>\n",
       "      <td>3,720.000</td>\n",
       "      <td>3,730.000</td>\n",
       "      <td>62,296,900.000</td>\n",
       "    </tr>\n",
       "    <tr>\n",
       "      <th>2023-10-20</th>\n",
       "      <td>3,486.947</td>\n",
       "      <td>3,700.000</td>\n",
       "      <td>3,730.000</td>\n",
       "      <td>3,690.000</td>\n",
       "      <td>3,720.000</td>\n",
       "      <td>38,978,200.000</td>\n",
       "    </tr>\n",
       "    <tr>\n",
       "      <th>2023-10-23</th>\n",
       "      <td>3,402.129</td>\n",
       "      <td>3,610.000</td>\n",
       "      <td>3,720.000</td>\n",
       "      <td>3,610.000</td>\n",
       "      <td>3,710.000</td>\n",
       "      <td>69,428,400.000</td>\n",
       "    </tr>\n",
       "    <tr>\n",
       "      <th>2023-10-24</th>\n",
       "      <td>3,439.826</td>\n",
       "      <td>3,650.000</td>\n",
       "      <td>3,670.000</td>\n",
       "      <td>3,600.000</td>\n",
       "      <td>3,640.000</td>\n",
       "      <td>67,041,700.000</td>\n",
       "    </tr>\n",
       "    <tr>\n",
       "      <th>2023-10-25</th>\n",
       "      <td>3,392.705</td>\n",
       "      <td>3,600.000</td>\n",
       "      <td>3,680.000</td>\n",
       "      <td>3,580.000</td>\n",
       "      <td>3,650.000</td>\n",
       "      <td>89,567,900.000</td>\n",
       "    </tr>\n",
       "    <tr>\n",
       "      <th>2023-10-26</th>\n",
       "      <td>3,279.615</td>\n",
       "      <td>3,480.000</td>\n",
       "      <td>3,610.000</td>\n",
       "      <td>3,460.000</td>\n",
       "      <td>3,600.000</td>\n",
       "      <td>141,139,700.000</td>\n",
       "    </tr>\n",
       "    <tr>\n",
       "      <th>2023-10-27</th>\n",
       "      <td>3,298.463</td>\n",
       "      <td>3,500.000</td>\n",
       "      <td>3,530.000</td>\n",
       "      <td>3,440.000</td>\n",
       "      <td>3,480.000</td>\n",
       "      <td>99,607,000.000</td>\n",
       "    </tr>\n",
       "    <tr>\n",
       "      <th>2023-10-30</th>\n",
       "      <td>3,223.070</td>\n",
       "      <td>3,420.000</td>\n",
       "      <td>3,500.000</td>\n",
       "      <td>3,390.000</td>\n",
       "      <td>3,500.000</td>\n",
       "      <td>82,945,500.000</td>\n",
       "    </tr>\n",
       "    <tr>\n",
       "      <th>2023-10-31</th>\n",
       "      <td>3,289.039</td>\n",
       "      <td>3,490.000</td>\n",
       "      <td>3,510.000</td>\n",
       "      <td>3,400.000</td>\n",
       "      <td>3,400.000</td>\n",
       "      <td>66,801,600.000</td>\n",
       "    </tr>\n",
       "  </tbody>\n",
       "</table>\n",
       "</div>"
      ],
      "text/plain": [
       "Attributes  Adj Close     Close      High       Low      Open          Volume\n",
       "Date                                                                         \n",
       "2023-10-02  3,534.067 3,750.000 3,780.000 3,730.000 3,750.000  71,945,000.000\n",
       "2023-10-03  3,552.916 3,770.000 3,800.000 3,740.000 3,750.000  61,155,100.000\n",
       "2023-10-04  3,562.340 3,780.000 3,800.000 3,740.000 3,800.000  77,527,700.000\n",
       "2023-10-05  3,505.795 3,720.000 3,800.000 3,720.000 3,790.000  81,258,900.000\n",
       "2023-10-06  3,562.340 3,780.000 3,800.000 3,770.000 3,780.000  60,156,100.000\n",
       "2023-10-09  3,543.492 3,760.000 3,780.000 3,750.000 3,770.000  37,711,400.000\n",
       "2023-10-10  3,590.613 3,810.000 3,820.000 3,770.000 3,780.000  51,167,900.000\n",
       "2023-10-11  3,562.340 3,780.000 3,810.000 3,780.000 3,780.000  83,154,300.000\n",
       "2023-10-12  3,609.461 3,830.000 3,870.000 3,800.000 3,820.000 101,645,100.000\n",
       "2023-10-13  3,628.309 3,850.000 3,850.000 3,810.000 3,820.000  48,856,500.000\n",
       "2023-10-16  3,543.492 3,760.000 3,850.000 3,740.000 3,850.000 117,472,800.000\n",
       "2023-10-17  3,571.764 3,790.000 3,810.000 3,770.000 3,780.000  57,046,900.000\n",
       "2023-10-18  3,534.067 3,750.000 3,780.000 3,730.000 3,770.000  64,910,600.000\n",
       "2023-10-19  3,515.219 3,730.000 3,760.000 3,720.000 3,730.000  62,296,900.000\n",
       "2023-10-20  3,486.947 3,700.000 3,730.000 3,690.000 3,720.000  38,978,200.000\n",
       "2023-10-23  3,402.129 3,610.000 3,720.000 3,610.000 3,710.000  69,428,400.000\n",
       "2023-10-24  3,439.826 3,650.000 3,670.000 3,600.000 3,640.000  67,041,700.000\n",
       "2023-10-25  3,392.705 3,600.000 3,680.000 3,580.000 3,650.000  89,567,900.000\n",
       "2023-10-26  3,279.615 3,480.000 3,610.000 3,460.000 3,600.000 141,139,700.000\n",
       "2023-10-27  3,298.463 3,500.000 3,530.000 3,440.000 3,480.000  99,607,000.000\n",
       "2023-10-30  3,223.070 3,420.000 3,500.000 3,390.000 3,500.000  82,945,500.000\n",
       "2023-10-31  3,289.039 3,490.000 3,510.000 3,400.000 3,400.000  66,801,600.000"
      ]
     },
     "execution_count": 25,
     "metadata": {},
     "output_type": "execute_result"
    }
   ],
   "source": [
    "# kode Pak Albert\n",
    "\n",
    "tlkm_okt_2023 = stock.xs(\n",
    "    key='TLKM.JK',          \n",
    "    level=1,                \n",
    "    axis=1                  \n",
    ").loc['2023-10-01':'2023-10-31']\n",
    "tlkm_okt_2023"
   ]
  },
  {
   "cell_type": "markdown",
   "metadata": {},
   "source": [
    "***END OF DAY 1***"
   ]
  },
  {
   "cell_type": "markdown",
   "metadata": {},
   "source": [
    "---"
   ]
  },
  {
   "cell_type": "markdown",
   "metadata": {},
   "source": [
    "***START OF DAY 2***"
   ]
  },
  {
   "cell_type": "markdown",
   "metadata": {},
   "source": [
    "# Reshaping DataFrame"
   ]
  },
  {
   "cell_type": "markdown",
   "metadata": {},
   "source": [
    "_Reshaping_ data adalah salah satu komponen penting dalam tahap _data wrangling_. _Reshaping_ memungkinkan seorang analis untuk mempersiapkan data menjadi bentuk yang sesuai untuk tahap analisis data berikutnya. Dalam hal ini, *reshaping* sering dilakukan sebelum visualisasi data. Fungsi-fungsi untuk _reshaping_ yang akan kita pelajari pada _course_ ini:\n",
    "\n",
    "- `.stack()`.\n",
    "- `.unstack()`.\n",
    "- `.melt()`.\n",
    "- `.pivot()`."
   ]
  },
  {
   "cell_type": "markdown",
   "metadata": {},
   "source": [
    "## ✨`.stack()`✨  "
   ]
  },
  {
   "cell_type": "markdown",
   "metadata": {},
   "source": [
    "<center>\n",
    "<img src=\"assets/reshaping_stack.png\" width=60%/>\n",
    "</center>"
   ]
  },
  {
   "cell_type": "markdown",
   "metadata": {},
   "source": [
    "`DataFrame.stack()` digunakan untuk **memindahkan level pada kolom menjadi level pada baris**."
   ]
  },
  {
   "cell_type": "markdown",
   "metadata": {},
   "source": [
    "**🔎 Parameter Penting Fungsi `.stack()`**\n",
    "\n",
    "* `level`: nama level/indeks level pada kolom yang akan dipindahkan. By default, kalau tidak didefinisikan, ia akan memindahkan level yang paling dalam.\n",
    "* Parameter lainnya dapat dilihat pada [dokumentasi berikut](https://pandas.pydata.org/docs/reference/api/pandas.DataFrame.stack.html)."
   ]
  },
  {
   "cell_type": "code",
   "execution_count": null,
   "metadata": {},
   "outputs": [],
   "source": [
    "# stock sebelum di-stack\n",
    "\n",
    "stock.head(2)"
   ]
  },
  {
   "cell_type": "code",
   "execution_count": null,
   "metadata": {},
   "outputs": [],
   "source": [
    "# stock setelah di-stack\n",
    "# by default akan memindahkan level yang paling bawah pada kolom: Symbols\n",
    "\n",
    "stacked_stock = \n",
    "stacked_stock"
   ]
  },
  {
   "cell_type": "markdown",
   "metadata": {},
   "source": [
    "**Note:** Untuk `Date` sebelum dan sesudah di-stacking secara default, akan berperan sebagai level 1 (Python mengenali sbg level 0)."
   ]
  },
  {
   "cell_type": "code",
   "execution_count": null,
   "metadata": {},
   "outputs": [],
   "source": [
    "# axes sebelum di-stack\n"
   ]
  },
  {
   "cell_type": "code",
   "execution_count": null,
   "metadata": {},
   "outputs": [],
   "source": [
    "# axes setelah di-stack\n"
   ]
  },
  {
   "cell_type": "markdown",
   "metadata": {},
   "source": [
    "Perhatikan bahwa:\n",
    "\n",
    "* Sebelum _stacking_, _index_ pada baris hanya berupa tanggal: `Date`.\n",
    "* Setelah _stacking_, _index_ pada baris bertambah menjadi tanggal dan simbol perusahaan: `Date` dan `Symbols`."
   ]
  },
  {
   "cell_type": "code",
   "execution_count": null,
   "metadata": {},
   "outputs": [],
   "source": []
  },
  {
   "cell_type": "markdown",
   "metadata": {},
   "source": [
    "> ❓ Bagaimana cara agar `Attributes` yang dipindahkan menjadi baris?"
   ]
  },
  {
   "cell_type": "code",
   "execution_count": null,
   "metadata": {},
   "outputs": [],
   "source": [
    "# memindahkan level Attributes menjadi level pada baris\n",
    "\n"
   ]
  },
  {
   "cell_type": "markdown",
   "metadata": {},
   "source": [
    "## ✨`.unstack()`✨"
   ]
  },
  {
   "cell_type": "markdown",
   "metadata": {},
   "source": [
    "<center>\n",
    "<img src=\"assets/reshaping_unstack.png\" width=60%/>\n",
    "</center>"
   ]
  },
  {
   "cell_type": "markdown",
   "metadata": {},
   "source": [
    "`DataFrame.unstack()` digunakan untuk **memindahkan level pada baris menjadi level pada kolom**. Kebalikan dari `DataFrame.stack()`."
   ]
  },
  {
   "cell_type": "markdown",
   "metadata": {},
   "source": [
    "**🔎 Parameter Penting Fungsi `.unstack()`**\n",
    "\n",
    "* `level`: nama level/indeks level pada baris yang akan dipindahkan.\n",
    "* Parameter lainnya dapat dilihat pada [dokumentasi berikut](https://pandas.pydata.org/docs/reference/api/pandas.DataFrame.unstack.html)."
   ]
  },
  {
   "cell_type": "code",
   "execution_count": null,
   "metadata": {},
   "outputs": [],
   "source": []
  },
  {
   "cell_type": "code",
   "execution_count": null,
   "metadata": {},
   "outputs": [],
   "source": [
    "# unstack stacked_stock\n",
    "# by default akan memindahkan level yang paling bawah pada baris: Symbols\n"
   ]
  },
  {
   "cell_type": "markdown",
   "metadata": {},
   "source": [
    "Setelah kita melakukan _unstacking_ pada data yang sudah di-_stacking_, `stacked_stock`, kita mendapatkan data seperti semula."
   ]
  },
  {
   "cell_type": "markdown",
   "metadata": {},
   "source": [
    "> ❓ Bagaimana cara agar `Date` yang dipindahkan menjadi kolom?"
   ]
  },
  {
   "cell_type": "code",
   "execution_count": null,
   "metadata": {},
   "outputs": [],
   "source": [
    "# memindahkan level Date menjadi level pada kolom\n",
    "\n"
   ]
  },
  {
   "cell_type": "markdown",
   "metadata": {},
   "source": [
    "## 🧪 Knowledge Check: `.stack()` and `unstack()`\n",
    "\n",
    "_Which of the following statement is correct?_\n",
    "\n",
    "- [ ] `stack()` _changes the dataframe from wide to long_. \n",
    "- [ ] `stack()` _changes the dataframe from long to wide_. \n",
    "- [ ] `unstack()` _changes the dataframe from long to wide_. \n",
    "- [ ] `unstack()` _changes the dataframe from wide to long_. "
   ]
  },
  {
   "cell_type": "markdown",
   "metadata": {},
   "source": [
    "## 🤿 Dive Deeper"
   ]
  },
  {
   "cell_type": "markdown",
   "metadata": {},
   "source": [
    "1. Bagaimana cara menukar level dari `Attributes` dan `Symbol` pada `stock`?"
   ]
  },
  {
   "attachments": {
    "image-2.png": {
     "image/png": "[encoded data removed]"
    }
   },
   "cell_type": "markdown",
   "metadata": {},
   "source": [
    "💡 ***Image of Expected Output***:\n",
    "![image-2.png](attachment:image-2.png)"
   ]
  },
  {
   "cell_type": "code",
   "execution_count": null,
   "metadata": {},
   "outputs": [],
   "source": [
    "# code here \n"
   ]
  },
  {
   "cell_type": "markdown",
   "metadata": {},
   "source": [
    "2. Buatlah kolom baru pada data `stock` dengan nama `Price Range`. Kolom `Price Range` merupakan selisih dari kolom `High` dan kolom `Low`.\n",
    "\n",
    "    💡 ***Hint***: \n",
    "    1. Gunakan `.stack()` untuk membuat hanya 1 level pada kolom `stock`.\n",
    "    2. Buat kolom yang diminta.\n",
    "    3. Gunakan `.unstack()` untuk mengembalikan data ke bentuk semula"
   ]
  },
  {
   "cell_type": "code",
   "execution_count": null,
   "metadata": {},
   "outputs": [],
   "source": [
    "# code here\n",
    "\n",
    "# 1. Copy data stock ke variabel stock_copy1\n",
    "stock_copy1 = "
   ]
  },
  {
   "cell_type": "code",
   "execution_count": null,
   "metadata": {},
   "outputs": [],
   "source": [
    "# 2. Lakukan stack pada stock_copy1 dan simpan pada stock_copy2\n",
    "stock_copy2 = \n",
    "stock_copy2.head()"
   ]
  },
  {
   "cell_type": "code",
   "execution_count": null,
   "metadata": {},
   "outputs": [],
   "source": [
    "# 3. Buat kolom Price Range pada stock_copy2\n",
    "stock_copy2['Price Range'] = \n",
    "stock_copy2.head()"
   ]
  },
  {
   "cell_type": "code",
   "execution_count": null,
   "metadata": {},
   "outputs": [],
   "source": [
    "# 4. Unstack stock_copy2\n"
   ]
  },
  {
   "cell_type": "markdown",
   "metadata": {},
   "source": [
    "## ✨`.melt()`✨"
   ]
  },
  {
   "cell_type": "markdown",
   "metadata": {},
   "source": [
    "<center>\n",
    "<img src=\"assets/reshaping_melt.png\" width=60%/>\n",
    "</center>"
   ]
  },
  {
   "cell_type": "markdown",
   "metadata": {},
   "source": [
    "`DataFrame.melt()` digunakan untuk **melebur beberapa kolom menjadi 1 kolom dan nilai di dalamnya menjadi 1 kolom lainnya**."
   ]
  },
  {
   "cell_type": "markdown",
   "metadata": {},
   "source": [
    "**🔎 Parameter Penting Fungsi `.melt()`**\n",
    "\n",
    "* `id_vars`: kolom yang akan dipertahankan, berperan sebagai _identifier_.\n",
    "* `value_vars`: kolom yang akan dilebur.\n",
    "* `var_name`: nama kolom untuk variabel.\n",
    "* `value_name`: nama kolom untuk _value_.\n",
    "* Parameter lainnya dapat dilihat pada [dokumentasi berikut](https://pandas.pydata.org/docs/reference/api/pandas.DataFrame.melt.html)."
   ]
  },
  {
   "cell_type": "markdown",
   "metadata": {},
   "source": [
    "> ❓ Ambil semua detail yang berhubungan dengan perusahaan Adaro dan simpan pada variabel `adaro`."
   ]
  },
  {
   "cell_type": "code",
   "execution_count": null,
   "metadata": {},
   "outputs": [],
   "source": []
  },
  {
   "cell_type": "code",
   "execution_count": null,
   "metadata": {},
   "outputs": [],
   "source": [
    "# ambil semua detail untuk ADRO.JK\n",
    "\n",
    "adaro = \n",
    "adaro.head(2)"
   ]
  },
  {
   "cell_type": "markdown",
   "metadata": {},
   "source": [
    "Gunakan fungsi `.melt()` untuk `adaro`."
   ]
  },
  {
   "cell_type": "code",
   "execution_count": null,
   "metadata": {},
   "outputs": [],
   "source": []
  },
  {
   "cell_type": "markdown",
   "metadata": {},
   "source": [
    "Perhatikan bahwa setelah dilakukan *melting*, kita mendapatkan 2 kolom:\n",
    "\n",
    "* Kolom `Attributes`: menyimpan nama-nama kolom yang di-*melt*.\n",
    "* Kolom `value`: menyimpan nilai-nilai kolom yang di-*melt*."
   ]
  },
  {
   "cell_type": "markdown",
   "metadata": {},
   "source": [
    "> ❓ Setelah melakukan _melting_ di atas, detail tanggal pada data kita hilang **karena berperan sebagai indeks dari baris**. Bagaimana memunculkan tanggal walaupun sudah dilakukan _melting_?"
   ]
  },
  {
   "cell_type": "code",
   "execution_count": null,
   "metadata": {},
   "outputs": [],
   "source": [
    "# jadikan tanggal sebagai kolom biasa dengan fungsi .reset_index()\n",
    "# piping dengan melakukan .melt()\n",
    "\n"
   ]
  },
  {
   "cell_type": "markdown",
   "metadata": {},
   "source": [
    "Setelah kita me-_reset_ _index_ dan melakukan _melting_ dengan fungsi `.melt()` tanpa mengatur argumen apapun, data `Date` kita juga ikut di-_melt_. Bentuk data di atas tidak terlalu kita inginkan. Oleh karena itu, kita akan mencoba untuk mengatur parameter pada `.melt()`."
   ]
  },
  {
   "cell_type": "markdown",
   "metadata": {},
   "source": [
    "### ▶️ Identifier dan Value"
   ]
  },
  {
   "cell_type": "markdown",
   "metadata": {},
   "source": [
    "Terdapat 2 parameter pada `.melt()` yang sering digunakan:\n",
    "\n",
    "* `id_vars`: kolom yang akan dipertahankan, berperan sebagai _identifier_.\n",
    "* `value_vars`: kolom yang akan dilebur."
   ]
  },
  {
   "cell_type": "code",
   "execution_count": null,
   "metadata": {},
   "outputs": [],
   "source": [
    "# memunculkan tanggal, tetapi tanggal tidak di-melt: \n",
    "# 1. gunakan .reset_index()\n",
    "# 2. gunakan .melt dan masukkan Date sebagai id_vars\n",
    "\n"
   ]
  },
  {
   "cell_type": "markdown",
   "metadata": {},
   "source": [
    "> ❓ Lakukan _melting_ hanya pada kolom `Open` dan `Close`. Kolom `Date` digunakan sebagai *identifier*."
   ]
  },
  {
   "cell_type": "code",
   "execution_count": null,
   "metadata": {},
   "outputs": [],
   "source": []
  },
  {
   "cell_type": "markdown",
   "metadata": {},
   "source": [
    "Kita dapat mengubah nama kolom `Attributes` (kolom yang menampung nama variabel) dengan parameter `var_name` dan mengubah nama kolom untuk *value* dengan parameter `value_name`."
   ]
  },
  {
   "cell_type": "markdown",
   "metadata": {},
   "source": [
    "> ❓ Melanjutkan pertanyaan sebelumnya, berikan nama untuk kolom variabel menjadi `Open and Close` dan nama untuk kolom _value_ menjadi `Price`. Simpan dalam variabel bernama `adaro_open_close`."
   ]
  },
  {
   "cell_type": "code",
   "execution_count": null,
   "metadata": {},
   "outputs": [],
   "source": [
    "adaro.reset_index()"
   ]
  },
  {
   "cell_type": "code",
   "execution_count": null,
   "metadata": {},
   "outputs": [],
   "source": [
    "adaro_open_close = \n",
    "adaro_open_close.head()"
   ]
  },
  {
   "cell_type": "markdown",
   "metadata": {},
   "source": [
    "> ❓ Bagaimana mengurutkan `adaro_open_close` sehingga harga `Open` dan `Close` di hari yang sama dapat berdekatan?"
   ]
  },
  {
   "cell_type": "code",
   "execution_count": null,
   "metadata": {},
   "outputs": [],
   "source": [
    "adaro_open_close.head()"
   ]
  },
  {
   "cell_type": "code",
   "execution_count": null,
   "metadata": {},
   "outputs": [],
   "source": []
  },
  {
   "cell_type": "markdown",
   "metadata": {},
   "source": [
    "## ✨`.pivot()`✨"
   ]
  },
  {
   "cell_type": "markdown",
   "metadata": {},
   "source": [
    "<center>\n",
    "<img src=\"assets/reshaping_pivot.png\" width=60%/>\n",
    "</center>"
   ]
  },
  {
   "cell_type": "markdown",
   "metadata": {},
   "source": [
    "`DataFrame.pivot()` merupakan kebalikan dari `DataFrame.melt()`."
   ]
  },
  {
   "cell_type": "markdown",
   "metadata": {},
   "source": [
    "**🔎 Parameter Penting Fungsi `.pivot()`**\n",
    "\n",
    "* `columns`: kolom yang akan diuraikan.\n",
    "* `index`: kolom yang dijadikan _index_/kolom mana yang tidak akan diuraikan.\n",
    "* `values`: kolom yang akan mengisi _value_ dari kolom yang baru dibuat.\n",
    "* Parameter lainnya dapat dilihat pada [dokumentasi berikut](https://pandas.pydata.org/docs/reference/api/pandas.DataFrame.pivot.html)."
   ]
  },
  {
   "cell_type": "markdown",
   "metadata": {},
   "source": [
    "Mari lihat kembali bagaimana data `adaro_open_close` kita sebelumnya."
   ]
  },
  {
   "cell_type": "code",
   "execution_count": null,
   "metadata": {},
   "outputs": [],
   "source": [
    "adaro_open_close.head()\n",
    "\n",
    "# Open and Close --> kolom hasil melting yang menyimpan nama kolom yang dilebur\n",
    "# Price --> kolom hasil melting yang menyimpan nilai dari kolom yang dilebur"
   ]
  },
  {
   "cell_type": "code",
   "execution_count": null,
   "metadata": {},
   "outputs": [],
   "source": [
    "# menggunakan .pivot() pada data adaro_open_close\n"
   ]
  },
  {
   "cell_type": "markdown",
   "metadata": {},
   "source": [
    "Terlihat pada kode di atas, setelah kita menggunakan fungsi `.pivot()`:\n",
    "\n",
    "* Kolom `Open and Close` akan dipecah menjadi 2 kolom: `Close` dan `Open`.\n",
    "* Nilai pada kolom `Close` dan `Open` berasal dari kolom `Price`."
   ]
  },
  {
   "cell_type": "markdown",
   "metadata": {},
   "source": [
    "## 🧪 Knowledge Check: `.melt()` vs `.stack()`\n",
    "\n",
    "Persamaan antara `melt()` dan `stack()`: \n",
    "- ...\n",
    "\n",
    "Apa perbedaan antara `melt()` dan `stack()` ?\n",
    "- `stack()` = ...\n",
    "- `melt()` = ..."
   ]
  },
  {
   "cell_type": "markdown",
   "metadata": {},
   "source": [
    "## 📝 Notes"
   ]
  },
  {
   "cell_type": "markdown",
   "metadata": {},
   "source": [
    "**▶️ Perbedaan `.pivot_table()` dan `.pivot()`**\n",
    " \n",
    "- `.pivot_table()` untuk membuat tabel agregasi (ada nilai yang dirangkum).\n",
    "- `.pivot()` hanya untuk _reshaping_ (tidak ada nilai yang dirangkum).\n",
    "\n",
    "**▶️ *Quick Summary***\n",
    "\n",
    "- Melakukan *slicing* pada *dataframe* yang *multi-index*: \n",
    "    + Menggunakan fungsi `.xs()`.\n",
    "- Melakukan *reshaping*:\n",
    "    + *Wide to Long*:\n",
    "       - Menggunakan fungsi `.stack()`: untuk *multi-index dataframe*.\n",
    "         - Fungsi: memindahkan kolom jadi baris.\n",
    "       - Menggunakan fungsi `.melt()`: untuk *single-index dataframe*.\n",
    "         - Fungsi: melebur/menyatukan beberapa kolom.\n",
    "    + *Long to Wide*:\n",
    "       - Menggunakan fungsi `.unstack()`: untuk *multi-index dataframe*.\n",
    "         - Fungsi: memindahkan baris jadi kolom.\n",
    "       - Menggunakan fungsi `.pivot()`: untuk *single-index dataframe*.\n",
    "         - Fungsi: menguraikan 1 kolom menjadi beberapa kolom.\n",
    "- Mengubah *index* menjadi kolom:\n",
    "    + Menggunakan fungsi `.reset_index()`."
   ]
  },
  {
   "cell_type": "markdown",
   "metadata": {},
   "source": [
    "---"
   ]
  },
  {
   "cell_type": "markdown",
   "metadata": {},
   "source": [
    "# Visual Data Exploratory"
   ]
  },
  {
   "cell_type": "markdown",
   "metadata": {},
   "source": [
    "🔎 **Tujuan Visualisasi**\n",
    "\n",
    "- ***Exploratory***: proses  **mengeksplorasi data** untuk **mendapatkan sebuah _insight_**. Visualisasi yang ditampilkan biasanya sederhana. Analogi: mencari dan mendapatkan batu permata di antara ratusan batu biasa.\n",
    "- ***Explanatory***: proses untuk menjelaskan atau **menyajikan _insight_** (*_explain_*) yang didapat dari hasil _exploratory_ kepada _user_/_audience_. Visualisasi yang ditampilkan biasanya lebih menarik dan meng-*highlight* _insight_ secara spesifik. Analogi: memoles batu permata tersebut dan menawarkannya kepada pembeli.\n",
    "\n",
    "Pada _course_ ini, kita akan fokus pada cara menampilkan visualisasi data yang **informatif dan tepat** (*exploratory*). Untuk memperindah tampilan visualisasi dapat didalami secara mandiri melalui dokumentasi yang tersedia."
   ]
  },
  {
   "cell_type": "markdown",
   "metadata": {},
   "source": [
    "## ✨`pandas` dan `matplotlib`✨"
   ]
  },
  {
   "cell_type": "markdown",
   "metadata": {},
   "source": [
    "`matplotlib` merupakan _package_ yang sering digunakan untuk membuat visualisasi data. Menariknya, kita dapat memanfaatkan fungsionalitas dari `matplotlib` melalui _method_ `.plot()` dari _dataframe_."
   ]
  },
  {
   "cell_type": "markdown",
   "metadata": {},
   "source": [
    "> ❓ Mbak Dwi sudah kembali dari agenda rapatnya. Sekarang, ia bersama Mas Arkana akan membuat  beberapa visualisasi yang akan dijadikan bahan diskusi dengan tim *data scientist* lainnya. Visualisasi pertama yang akan dibuat adalah pergerakan `Volume` dari ketiga perusahaan selama **50 hari terakhir**."
   ]
  },
  {
   "cell_type": "code",
   "execution_count": null,
   "metadata": {},
   "outputs": [],
   "source": [
    "stock.head()"
   ]
  },
  {
   "cell_type": "code",
   "execution_count": null,
   "metadata": {},
   "outputs": [],
   "source": [
    "# 50 data Volume terakhir\n",
    "\n"
   ]
  },
  {
   "cell_type": "code",
   "execution_count": null,
   "metadata": {},
   "outputs": [],
   "source": [
    "# membuat visualisasi dari 50 data Volume terakhir\n"
   ]
  },
  {
   "cell_type": "markdown",
   "metadata": {},
   "source": [
    "Dari visualisasi di atas:\n",
    "\n",
    "* Sumbu x menunjukkan: nilai `Date`.\n",
    "* Sumbu y menunjukkan: nilai `Volume`.\n",
    "* Setiap garis mewakili perusahaan yang berbeda: `ADRO.JK`, `BBRI.JK`, dan `TLKM.JK`.    "
   ]
  },
  {
   "cell_type": "markdown",
   "metadata": {},
   "source": [
    "📈 ***Insight***:\n",
    "\n",
    "* ..."
   ]
  },
  {
   "cell_type": "markdown",
   "metadata": {},
   "source": [
    "Kita juga dapat mengatur _style_ dari visualisasi dengan fungsi `plt.style.use()`."
   ]
  },
  {
   "cell_type": "code",
   "execution_count": null,
   "metadata": {},
   "outputs": [],
   "source": [
    "# style yang tersedia\n",
    "print(plt.style.available)"
   ]
  },
  {
   "cell_type": "code",
   "execution_count": null,
   "metadata": {},
   "outputs": [],
   "source": [
    "# menggunakan style seaborn-v0_8\n",
    "\n"
   ]
  },
  {
   "cell_type": "code",
   "execution_count": null,
   "metadata": {},
   "outputs": [],
   "source": [
    "# visualisasi ulang setelah mengatur style\n",
    "\n"
   ]
  },
  {
   "cell_type": "markdown",
   "metadata": {},
   "source": [
    "> ❓ Ternyata berdasarkan visualisasi sebelumnya, `ADRO.JK` adalah saham dengan angka volume yang cenderung terendah dibandingkan dengan dua perusahaannya. Selanjutnya, Mbak Dwi dan Mas Arkana akan membuat visualisasi pergerakan saham `ADRO.JK` selama tahun 2023."
   ]
  },
  {
   "cell_type": "code",
   "execution_count": null,
   "metadata": {},
   "outputs": [],
   "source": [
    "stock.head()"
   ]
  },
  {
   "cell_type": "code",
   "execution_count": null,
   "metadata": {},
   "outputs": [],
   "source": [
    "# subsetting untuk mendapatkan atribut ADRO.JK selama 2023\n",
    "\n",
    "adaro_2023 = "
   ]
  },
  {
   "cell_type": "code",
   "execution_count": null,
   "metadata": {},
   "outputs": [],
   "source": [
    "adaro_2023.head()"
   ]
  },
  {
   "cell_type": "code",
   "execution_count": null,
   "metadata": {},
   "outputs": [],
   "source": [
    "# visualisasi data adaro_2023\n",
    "\n"
   ]
  },
  {
   "cell_type": "markdown",
   "metadata": {},
   "source": [
    "💭 **Diskusi:** Apakah visualisasi tersebut sudah cukup informatif dan tepat?"
   ]
  },
  {
   "cell_type": "code",
   "execution_count": null,
   "metadata": {},
   "outputs": [],
   "source": [
    "# cek nilai maksimum untuk Volume\n"
   ]
  },
  {
   "cell_type": "code",
   "execution_count": null,
   "metadata": {},
   "outputs": [],
   "source": [
    "# cek nilai maksimum untuk Open\n"
   ]
  },
  {
   "cell_type": "code",
   "execution_count": null,
   "metadata": {},
   "outputs": [],
   "source": [
    "# buat visualisasi dengan meng-exclude kolom Volume\n"
   ]
  },
  {
   "cell_type": "markdown",
   "metadata": {},
   "source": [
    "📈 ***Insight***:\n",
    "\n",
    "* ..."
   ]
  },
  {
   "cell_type": "markdown",
   "metadata": {},
   "source": [
    "## ✨Tipe-Tipe Visualisasi✨"
   ]
  },
  {
   "cell_type": "markdown",
   "metadata": {},
   "source": [
    "Perhatikan bahwa kita tidak memasukkan argumen apapun ke dalam fungsi `.plot()`. _By default_, jenis visualisasi yang digunakan adalah _lineplot_. Terdapat beberapa jenis visualisasi lain yang bisa kita gunakan.\n",
    "\n",
    "* **Visualisasi untuk Satu Kolom**\n",
    "\n",
    "    - Data kategorik:\n",
    "        - **`.plot(kind='bar')` untuk _barplot_ (diagram batang)**.\n",
    "        - **`.plot(kind='barh')` untuk _horizontal barplot_**.\n",
    "        - **`.plot(kind='box')` untuk _boxplot_**.\n",
    "        - `.plot(kind='pie')` untuk _pie chart_.\n",
    "    \n",
    "    - Data numerik:\n",
    "        - **`.plot(kind='hist')` untuk histogram**.\n",
    "        - `.plot(kind='density')` untuk *density plot*.\n",
    "        - `.plot(kind='area')` untuk *area plot.*\n",
    "\n",
    "\n",
    "* **Visualisasi untuk Dua Kolom**\n",
    "\n",
    "    - `.plot(kind='scatter')` untuk _scatterplot_.\n",
    "    - `.plot(kind='hexbin')` untuk _hexagonal binning plot_.\n",
    "\n",
    "> 📌 Panduan untuk menentukan tipe visualisasi yang tepat: https://www.data-to-viz.com/.\n",
    "\n",
    "> 📌 Dokumentasi fungsi `.plot()`: https://pandas.pydata.org/docs/reference/api/pandas.DataFrame.plot.html."
   ]
  },
  {
   "cell_type": "markdown",
   "metadata": {},
   "source": [
    "### 1️⃣ Barplot"
   ]
  },
  {
   "cell_type": "markdown",
   "metadata": {},
   "source": [
    "> 📌 **_Barplot_** digunakan untuk melihat **perbandingan** beberapa **kategori**."
   ]
  },
  {
   "cell_type": "code",
   "execution_count": null,
   "metadata": {},
   "outputs": [],
   "source": []
  },
  {
   "cell_type": "markdown",
   "metadata": {},
   "source": [
    "> ❓ Selanjutnya, Mbak Dwi dan Mas Arkana ingin **membandingkan tingkat fluktuasi** nilai `High` pada masing-masing perusahaan menggunakan *coefficient of variation*. *Insight* yang didapatkan pada analisis ini dapat dimanfaatkan untuk mengurutkan perusahaan mana yang pergerakan sahamnya yang cukup stabil dan mana yang tidak.\n",
    "\n",
    "> 📌 Info lebih lanjut terkait [coefficient of variation](https://www.investopedia.com/terms/c/coefficientofvariation.asp)\n",
    "\n",
    "$$CoV = \\frac{std}{mean}$$"
   ]
  },
  {
   "cell_type": "code",
   "execution_count": null,
   "metadata": {},
   "outputs": [],
   "source": [
    "# mengambil nilai coefficient of variation\n",
    "coef_of_var = \n",
    "coef_of_var"
   ]
  },
  {
   "cell_type": "code",
   "execution_count": null,
   "metadata": {},
   "outputs": [],
   "source": [
    "# membuat barplot \n"
   ]
  },
  {
   "cell_type": "code",
   "execution_count": null,
   "metadata": {},
   "outputs": [],
   "source": [
    "# tampilkan barplot secara berurutan: dari yang paling rendah ke yang paling tinggi\n",
    "\n"
   ]
  },
  {
   "cell_type": "markdown",
   "metadata": {},
   "source": [
    "📈 ***Insight***:\n",
    "\n",
    "* ..."
   ]
  },
  {
   "cell_type": "code",
   "execution_count": null,
   "metadata": {},
   "outputs": [],
   "source": [
    "# parameter lain dari .plot()\n"
   ]
  },
  {
   "cell_type": "markdown",
   "metadata": {},
   "source": [
    "### 2️⃣ Horizontal Barplot"
   ]
  },
  {
   "cell_type": "markdown",
   "metadata": {},
   "source": [
    "> 📌 **_Horizontal barplot_** digunakan untuk melihat **perbandingan** beberapa **kategori secara horizontal** ."
   ]
  },
  {
   "cell_type": "code",
   "execution_count": null,
   "metadata": {},
   "outputs": [],
   "source": [
    "# membuat horizontal barplot dari data coef_of_var\n",
    "\n"
   ]
  },
  {
   "cell_type": "code",
   "execution_count": null,
   "metadata": {},
   "outputs": [],
   "source": [
    "# tampilkan horizontal barplot secara berurutan: dari yang paling rendah ke yang paling tinggi\n"
   ]
  },
  {
   "cell_type": "markdown",
   "metadata": {},
   "source": [
    "🔎 ***Barplot vs Horizontal Barplot***\n",
    "\n",
    "* _Barplot_:  digunakan saat ingin membuat perbandingan yang sudah memiliki urutan, misalnya tingkat pendidikan dan waktu.\n",
    "* _Horizontal barplot_: digunakan saat ingin melihat _ranking_.\n",
    "\n",
    "> ❓ Dengan contoh di atas, kita sebaiknya menggunakan apa? ..."
   ]
  },
  {
   "cell_type": "markdown",
   "metadata": {},
   "source": [
    "### 3️⃣ Histogram"
   ]
  },
  {
   "cell_type": "markdown",
   "metadata": {},
   "source": [
    "> 📌 **Histogram** digunakan untuk melihat **persebaran** data numerik."
   ]
  },
  {
   "cell_type": "markdown",
   "metadata": {},
   "source": [
    ">❓ Berdasarkan hasil analisis sebelumnya, `TLKM.JK` adalah perusahaan yang CoV-nya paling kecil dibandingkan BRI dan Adaro. Selanjutnya, mereka berdua ingin melihat lebih lanjut, bagaimanakah **persebaran** `Volume` pada saham `TLKM.JK`?"
   ]
  },
  {
   "cell_type": "code",
   "execution_count": null,
   "metadata": {},
   "outputs": [],
   "source": [
    "stock.head()"
   ]
  },
  {
   "cell_type": "code",
   "execution_count": null,
   "metadata": {},
   "outputs": [],
   "source": [
    "# ambil data Volume pada TLKM.JK dan simpan ke variabel vol_telkom\n",
    "vol_telkom = \n",
    "vol_telkom.head()"
   ]
  },
  {
   "cell_type": "code",
   "execution_count": null,
   "metadata": {},
   "outputs": [],
   "source": [
    "# visualisasi histogram \n"
   ]
  },
  {
   "cell_type": "markdown",
   "metadata": {},
   "source": [
    "📈 ***Insight***:\n",
    "\n",
    "* ..."
   ]
  },
  {
   "cell_type": "markdown",
   "metadata": {},
   "source": [
    "### 🧪 Knowledge Check: Barplot vs Histogram"
   ]
  },
  {
   "cell_type": "markdown",
   "metadata": {},
   "source": [
    "Setelah mempelajari kedua jenis visualisasi di atas: _barplot_ dan histogram, apa perbedaan kedua visualisasi tersebut?\n",
    "\n",
    "1. Variabel yang digunakan \n",
    "    * Barplot: ...\n",
    "    * Histogram: ...\n",
    "2. Bentuk\n",
    "    * Barplot: ...\n",
    "    * Histogram: ...\n",
    "3. Kegunaan\n",
    "    * Barplot: ...\n",
    "    * Histogram: ...\n"
   ]
  },
  {
   "cell_type": "markdown",
   "metadata": {},
   "source": [
    "### 4️⃣ Boxplot"
   ]
  },
  {
   "cell_type": "markdown",
   "metadata": {},
   "source": [
    "> 📌 ***Boxplot*** digunakan untuk melihat ***5 number summary*** & **membandingkan persebaran** dari beberapa kategori."
   ]
  },
  {
   "cell_type": "markdown",
   "metadata": {},
   "source": [
    "<center>\n",
    "<img src=\"assets/boxplot.png\" width=\"600\"/>\n",
    "<center/>"
   ]
  },
  {
   "cell_type": "markdown",
   "metadata": {},
   "source": [
    "**Cara Membaca Informasi Dari Boxplot**\n",
    "* Jika ada outlier di data kita, maka whisker menunjukkan batas outlier, yaitu Q1-1.5*IQR atau Q3+1.5*IQR (kalau titik di luar kumis (whisker)).\n",
    "* Jika tidak ada outlier (tidak ada titik di luar kumis (whisker)), kumis (whisker) menunjukkan nilai minimum atau maximum dari data.\n",
    "\n",
    "**Note**: Whisker ditunjukkan oleh area berwarna ungu."
   ]
  },
  {
   "cell_type": "markdown",
   "metadata": {},
   "source": [
    "**Bagian-Bagian dari Boxplot**\n",
    "\n",
    "- Q1: kuartil 1 (data ke 25%).\n",
    "- Median: kuartil 2 (data ke 50%).\n",
    "- Q3: kuartil 3 (data ke 75%).\n",
    "- _Lower whisker_: pagar bawah.\n",
    "- _Upper whisker_: pagar atas.\n",
    "- Data di luar pagar akan dianggap sebagai _outlier_ atau data pencilan.\n",
    "\n",
    "> ⚠️ _Lower whisker_ bukan nilai minimum data. _Upper whisker_ juga bukan nilai maksimum data."
   ]
  },
  {
   "cell_type": "markdown",
   "metadata": {},
   "source": [
    "**💡 Tips: Informasi yang Bisa Didapatkan dari *Boxplot***\n",
    "\n",
    "1. Garis kuning pada kotak, menunjukkan nilai tengah atau median pada data.\n",
    "2. Letak garis median menunjukkan persebaran data.\n",
    "    * Jika letak garis median tepat di tengah kotak, maka banyak nilai-nilai yang kecil dan banyak nilai-nilai yang besar adalah sama.\n",
    "    * Jika letak garis median mendekati garis Q1, kebanyakan nilai-nilai pada data adalah nilai yang kecil.\n",
    "    * Jika letak garis median mendekati garis Q2, kebanyakan nilai-nilai pada data adalah nilai yang besar.\n",
    "3. Lebar kotak menunjukkan tingkat variasi\n",
    "    * Semakin panjang kotak, semakin bervariasi nilai pada data.\n",
    "4. Titik-titik di luar *whiskers* menunjukkan data pencilan.\n",
    "    * Data pencilan adalah data yang < Q1-1.5*IQR atau >Q3+1.5*IQR"
   ]
  },
  {
   "cell_type": "markdown",
   "metadata": {},
   "source": [
    "> ❓ Untuk mendapatkan *insight* yang lebih lengkap, Mbak Dwi dan Mas Arkana **membandingkan persebaran** untuk ketiga saham menggunakan *boxplot*."
   ]
  },
  {
   "cell_type": "code",
   "execution_count": null,
   "metadata": {},
   "outputs": [],
   "source": []
  },
  {
   "cell_type": "code",
   "execution_count": null,
   "metadata": {},
   "outputs": [],
   "source": [
    "# menampilan boxplot untuk membandingkan persebaran Volume dari ketiga saham\n",
    "\n"
   ]
  },
  {
   "cell_type": "markdown",
   "metadata": {},
   "source": [
    "Gunakan parameter `vert=False` untuk melihat _boxplot_ secara horizontal."
   ]
  },
  {
   "cell_type": "code",
   "execution_count": null,
   "metadata": {},
   "outputs": [],
   "source": []
  },
  {
   "cell_type": "markdown",
   "metadata": {},
   "source": [
    "📈 ***Insight***:\n",
    "\n",
    "* ..."
   ]
  },
  {
   "cell_type": "markdown",
   "metadata": {},
   "source": [
    "Selain menggunakan `.plot(kind = \"box\")`, kita juga bisa menggunakan fungsi `.boxplot()` untuk membuat *boxplot*,"
   ]
  },
  {
   "cell_type": "markdown",
   "metadata": {},
   "source": [
    "> ❓ Di tengah pengerjaan analisis perbandingan saham ini, Mbak Dwi mendapatkan *request* untuk membandingkan `Volume` dari `BBRI.JK` setiap kuater tahun 2023. Bantulah Mbak Dwi untuk memenuhi *request* tersebut!"
   ]
  },
  {
   "cell_type": "code",
   "execution_count": null,
   "metadata": {},
   "outputs": [],
   "source": [
    "# ambil data Volume BBRI.JK\n",
    "\n",
    "vol_bri = \n",
    "vol_bri.head()"
   ]
  },
  {
   "cell_type": "code",
   "execution_count": null,
   "metadata": {},
   "outputs": [],
   "source": [
    "# slicing hanya tahun 2023\n",
    "vol_bri_2023 = \n",
    "vol_bri_2023.head()"
   ]
  },
  {
   "cell_type": "code",
   "execution_count": null,
   "metadata": {},
   "outputs": [],
   "source": [
    "# buat kolom baru, Quarter, yang menunjukkan kuarter dari waktu yang diberikan \n",
    "\n",
    "vol_bri_2023['Quarter'] = \n",
    "vol_bri_2023.head()"
   ]
  },
  {
   "cell_type": "code",
   "execution_count": null,
   "metadata": {},
   "outputs": [],
   "source": [
    "# nilai unique  Quarter\n"
   ]
  },
  {
   "cell_type": "code",
   "execution_count": null,
   "metadata": {},
   "outputs": [],
   "source": [
    "# visualisasi\n"
   ]
  },
  {
   "cell_type": "markdown",
   "metadata": {},
   "source": [
    "### (Additional) Other Python Libraries for Visualization\n",
    "\n",
    "Apabila Anda tertarik mengenai visualisasi di Python, silakan eksplorasi lebih lanjut _package_-_package_ berikut.\n",
    "\n",
    "- `matplotlib`: semua elemen pada visualisasi dapat dikustomisasi, namun membutuhkan _code_ yang lebih panjang. [Dokumentasi Matplotlib](https://matplotlib.org/3.2.2/tutorials/index.html) \n",
    "- `seaborn`: dikembangkan dari `matplotlib`. Lebih sedikit yang dapat dikustomisasi, namun lebih mudah. [Dokumentasi Seaborn](https://seaborn.pydata.org/introduction.html)\n",
    "- `plotly`: plot interaktif serta kompatibilitas dengan bahasa lain yang tinggi. [Dokumentasi Plotly](https://plotly.com/python/)\n",
    "- `altair`: plot interaktif yang bersifat deklaratif dan _code_ relatif lebih mudah. [Dokumentasi Altair](https://altair-viz.github.io/index.html)\n",
    "\n",
    "Referensi perbandingan _library_ dapat Anda lihat [di sini](https://askalgo-py.netlify.app/faq/dwv#adakah-library-visualisasi-data-di-python-selain-matplotlib)."
   ]
  },
  {
   "cell_type": "markdown",
   "metadata": {},
   "source": [
    "---"
   ]
  },
  {
   "cell_type": "markdown",
   "metadata": {},
   "source": [
    "# Using Group By Effectively"
   ]
  },
  {
   "cell_type": "markdown",
   "metadata": {},
   "source": [
    "Teknik yang tidak kalah penting adalah operasi ***group by***. Mungkin untuk Anda yang sudah pernah menggunakan SQL atau _tools_ lain seperti `tidyverse` pada bahasa pemrograman R akan familiar dengan operasi _group by_ ini."
   ]
  },
  {
   "cell_type": "markdown",
   "metadata": {},
   "source": [
    "Misalkan kita punya *dataframe* `close_melted` yang menyimpan data `Close` harian dari setiap perusahaan."
   ]
  },
  {
   "cell_type": "code",
   "execution_count": null,
   "metadata": {},
   "outputs": [],
   "source": [
    "stock.head()"
   ]
  },
  {
   "cell_type": "code",
   "execution_count": null,
   "metadata": {},
   "outputs": [],
   "source": [
    "stock['Close'].head()"
   ]
  },
  {
   "cell_type": "code",
   "execution_count": null,
   "metadata": {},
   "outputs": [],
   "source": [
    "# membuat dataframe close_melted\n",
    "close_melted  = stock['Close'].reset_index().melt(\n",
    "    id_vars = 'Date',\n",
    "    value_name = \"Close\",\n",
    "    var_name = \"Perusahaan\"\n",
    ")\n",
    "close_melted"
   ]
  },
  {
   "cell_type": "markdown",
   "metadata": {},
   "source": [
    "> ❓ Untuk melengkapi analisis sebelumnya, Mbak Dwi dan Mas Arkana ingin melihat, di antara ADRO.JK, BBRI.JK, TLKM.JK, manakah saham yang memiliki **rata-rata** `Close` harian tertinggi? "
   ]
  },
  {
   "cell_type": "markdown",
   "metadata": {},
   "source": [
    "Untuk menyelesaikan *case* di atas, kita perlu membuat tabel agregasi terlebih dahulu. Buatlah tabel agregasi dengan `.crosstab()` atau `.pivot_table()`!"
   ]
  },
  {
   "cell_type": "markdown",
   "metadata": {},
   "source": [
    "▶️ Dengan `.crosstab()`"
   ]
  },
  {
   "cell_type": "code",
   "execution_count": null,
   "metadata": {},
   "outputs": [],
   "source": [
    "# dengan crosstab \n"
   ]
  },
  {
   "cell_type": "markdown",
   "metadata": {},
   "source": [
    "▶️ Dengan `.pivot_table()`"
   ]
  },
  {
   "cell_type": "code",
   "execution_count": null,
   "metadata": {},
   "outputs": [],
   "source": [
    "# dengan pivot_table\n"
   ]
  },
  {
   "cell_type": "markdown",
   "metadata": {},
   "source": [
    "Perbedaan antara `crosstab` dan `pivot_table` dapat dirangkum dalam tabel berikut:\n",
    "\n",
    "|                                                                                    | `.crosstab()` | `.pivot_table()` |\n",
    "|------------------------------------------------------------------------------------|-----------------|--------------------|\n",
    "|                                                                          **Input** | Array of values/Series |          DataFrame (parameter `data`)|\n",
    "|                                                              **Default `aggfunc`** |       `'count'` |           `'mean'` |\n",
    "|                                                          **Parameter `columns`** |       Mandatory |      Optional |\n",
    "|                                                          **Parameter `normalize`** |       Available |      Not Available |\n",
    "| [**Computation Time**](https://ramiro.org/notebook/pandas-crosstab-groupby-pivot/) | Relatively Slower |  Relatively Faster |"
   ]
  },
  {
   "cell_type": "markdown",
   "metadata": {},
   "source": [
    "▶️ Dengan `.groupby()`"
   ]
  },
  {
   "cell_type": "markdown",
   "metadata": {},
   "source": [
    "Selain menggunakan `pd.crosstab()` atau `.pivot_table`, salah satu fungsi yang dapat dimanfaatkan untuk melakukan agregasi data adalah method `.groupby()`.\n",
    "\n",
    "Proses agregasi dengan `.groupby()` merupakan gabungan dari proses:\n",
    "\n",
    "1. ***Split***: memisahkan baris berdasarkan suatu kategori.\n",
    "2. ***Apply***: menerapkan fungsi agregasi untuk masing-masing grup.\n",
    "3. ***Combine***: mengembalikan hasil dalam bentuk 1 tabel.\n",
    "\n",
    "```python\n",
    "df.groupby('kolom_category').aggfunc()\n",
    "```\n",
    "\n",
    "atau\n",
    "\n",
    "```python\n",
    "df.groupby('kolom_category')['kolom_numerik'].aggfunc()\n",
    "```\n",
    "\n",
    "💡 Berikut beberapa fungsi agregasi yang dapat digunakan pada `pandas`:\n",
    "\n",
    "- `.count()`- jumlah baris\n",
    "- `.sum()` - penjumlahan\n",
    "- `.mean()` - rata-rata \n",
    "- `.median()` - median\n",
    "- `.min()` - minimum\n",
    "- `.max()` - maximum\n",
    "- `.mode()` - modus\n",
    "- `.std()` - standard deviasi\n",
    "- `.var()`- variansi"
   ]
  },
  {
   "cell_type": "code",
   "execution_count": null,
   "metadata": {},
   "outputs": [],
   "source": []
  },
  {
   "cell_type": "code",
   "execution_count": null,
   "metadata": {},
   "outputs": [],
   "source": [
    "# dengan groupby\n"
   ]
  },
  {
   "cell_type": "markdown",
   "metadata": {},
   "source": [
    "Selanjutnya, buat visualisasi dengan *barchart*."
   ]
  },
  {
   "cell_type": "code",
   "execution_count": null,
   "metadata": {},
   "outputs": [],
   "source": [
    "\n"
   ]
  },
  {
   "cell_type": "markdown",
   "metadata": {},
   "source": [
    "## ✨Grouped Barchart✨"
   ]
  },
  {
   "cell_type": "markdown",
   "metadata": {},
   "source": [
    "> ❓ Jika pada analisis sebelumnya Mbak Dwi dan Mas Arkana hanya menghitung rata-rata nilai `Close` secara keseluruhan, kali ini, mereka ingin membuat visualisasi yang dapat membandingkan rata-rata nilai `Close` untu ketiga saham setiap bulannya. \n",
    "\n",
    "Untuk *case* di atas, kita bisa menggunakan ***grouped barchart***.\n",
    "\n",
    "* Buatlah *dataframe*  `closing_price` yang berisikan nilai `Close` untuk ketiga saham.\n",
    "* Tampilkan nilai rata-rata `Close` untuk setiap bulannya pada tabel agregasi `mean_closing`."
   ]
  },
  {
   "cell_type": "code",
   "execution_count": null,
   "metadata": {},
   "outputs": [],
   "source": [
    "# buat dataframe closing_price\n",
    "closing_price = \n",
    "closing_price.head()"
   ]
  },
  {
   "cell_type": "code",
   "execution_count": null,
   "metadata": {},
   "outputs": [],
   "source": [
    "# buat kolom baru pada closing_price: Month\n",
    "closing_price['Month'] = "
   ]
  },
  {
   "cell_type": "code",
   "execution_count": null,
   "metadata": {},
   "outputs": [],
   "source": [
    "closing_price.head()"
   ]
  },
  {
   "cell_type": "code",
   "execution_count": null,
   "metadata": {},
   "outputs": [],
   "source": [
    "# buat tabel agregasi mean_closing\n",
    "mean_closing = \n",
    "mean_closing"
   ]
  },
  {
   "cell_type": "markdown",
   "metadata": {},
   "source": [
    "Selanjutnya, kita akan membuat *grouped barchart*."
   ]
  },
  {
   "cell_type": "code",
   "execution_count": null,
   "metadata": {},
   "outputs": [],
   "source": []
  },
  {
   "cell_type": "code",
   "execution_count": null,
   "metadata": {},
   "outputs": [],
   "source": [
    "# improvement visualisasi\n",
    "# perbaiki urutan bulan\n",
    "months = ['January', 'February', 'March', 'April', 'May', 'June', \n",
    "         'July', 'August', 'September', 'October', 'November', 'December']\n",
    "\n"
   ]
  },
  {
   "cell_type": "markdown",
   "metadata": {},
   "source": [
    "### 🧪 Knowledge Check: `.groupby()`"
   ]
  },
  {
   "cell_type": "markdown",
   "metadata": {},
   "source": [
    "Misalkan Anda dihadapkan dengan *long dataframe* seperti pada `closingprice_melt` berikut."
   ]
  },
  {
   "cell_type": "code",
   "execution_count": null,
   "metadata": {},
   "outputs": [],
   "source": [
    "closingprice_melt = closing_price.melt(id_vars='Month', value_name='Close')\n",
    "closingprice_melt"
   ]
  },
  {
   "cell_type": "code",
   "execution_count": null,
   "metadata": {},
   "outputs": [],
   "source": [
    "mean_closing.head()"
   ]
  },
  {
   "cell_type": "markdown",
   "metadata": {},
   "source": [
    "🧐 Bagaimana cara kita mengubah bentuk `closingprice_melt` menjadi `mean_closing`?\n",
    "\n",
    "***Hint:*** Gunakan teknik _group by_ dan juga _reshaping_."
   ]
  },
  {
   "cell_type": "code",
   "execution_count": null,
   "metadata": {},
   "outputs": [],
   "source": [
    "# code here\n"
   ]
  },
  {
   "cell_type": "markdown",
   "metadata": {},
   "source": [
    "## ✨Combining `.agg()` and `.groupby()`✨"
   ]
  },
  {
   "cell_type": "markdown",
   "metadata": {},
   "source": [
    "Pada bagian sebelumnya, kita sudah mengetahui bahwa penggunaan `.groupby()` diikuti dengan sebuah fungsi agregasi. Misalnya, jika ingin menghitung rata-rata, maka kita menggunakan `.mean()`. Terdapat fungsi lain, `.agg()` yang memungkinkan kita untuk menggunakan fungsi agregasi yang berbeda-beda.\n",
    "\n",
    "Misalkan terdapat memiliki data `stock_long` sebagai berikut."
   ]
  },
  {
   "cell_type": "code",
   "execution_count": null,
   "metadata": {},
   "outputs": [],
   "source": [
    "stock_long = stock.stack().reset_index()\n",
    "stock_long.head()"
   ]
  },
  {
   "cell_type": "markdown",
   "metadata": {},
   "source": [
    "❓ Jika pada analisis sebelumnya Mbak Dwi dan Mas Arkana hanya terfokus pada satu kolom, kali ini, mereka ingin membandingkan beberapa aspek berikut dari ketiga perusahaan:\n",
    "\n",
    "- Harga maksimum dari `High` untuk ketiga perusahaan (`max` dari `High`)\n",
    "- Harga minimum dari `Low` untuk ketiga perusahaan  (`min` dari `Low`)\n",
    "- Rata-rata *closing price* untuk ketiga perusahaan (`mean` dari `Close`)\n",
    "\n",
    "Untuk mendapat hasil tersebut, kita harus melakukan _chaining_ `.groupby()` dengan method `.agg()`. Kita harus menyertakan _mapping_ (*dictionary*) untuk setiap kolom dengan fungsi agregasinya seperti berikut ini."
   ]
  },
  {
   "cell_type": "code",
   "execution_count": null,
   "metadata": {},
   "outputs": [],
   "source": [
    "# dengan .groupby()\n",
    "# dictionary {key : value}\n",
    "\n",
    "summary_stock = stock_long.groupby(by='Symbols').agg({\n",
    "    'High':'max',\n",
    "    'Low':'min',\n",
    "    'Close':'mean'\n",
    "})\n",
    "summary_stock"
   ]
  },
  {
   "cell_type": "markdown",
   "metadata": {},
   "source": [
    "Visualisasikan tabel agregasi di atas untuk membandingkan nilai tersebut."
   ]
  },
  {
   "cell_type": "code",
   "execution_count": null,
   "metadata": {},
   "outputs": [],
   "source": [
    "# visualisasi\n"
   ]
  },
  {
   "cell_type": "markdown",
   "metadata": {},
   "source": [
    "## 🧪 Knowledge Check: Visualization"
   ]
  },
  {
   "cell_type": "markdown",
   "metadata": {},
   "source": [
    "Perhatikan _dataframe_ `monthly_closing` berikut."
   ]
  },
  {
   "cell_type": "code",
   "execution_count": null,
   "metadata": {},
   "outputs": [],
   "source": [
    "stock['YearMonth'] = stock.index.to_period('M')\n",
    "monthly_closing = stock.groupby('YearMonth').mean()['Close']\n",
    "monthly_closing.head()"
   ]
  },
  {
   "cell_type": "markdown",
   "metadata": {},
   "source": [
    "Tipe plot mana yang paling sesuai untuk data di atas, apabila kita ingin melihat pergerakan nilai `Close` dari waktu ke waktu?\n",
    "\n",
    "- [ ] _Line plot_ `.plot()`\n",
    "- [ ] _Scatter plot_ `.plot.scatter(x, y)` \n",
    "- [ ] _Bar plot_ `.plot.bar()` \n",
    "- [ ] _Box plot_ `.plot.box()` "
   ]
  },
  {
   "cell_type": "markdown",
   "metadata": {},
   "source": [
    "---"
   ]
  },
  {
   "cell_type": "markdown",
   "metadata": {},
   "source": [
    "# Referensi\n",
    "\n",
    "* Dokumentasi per Fungsi \n",
    "    * [Dokumentasi `.xs()`](https://pandas.pydata.org/docs/reference/api/pandas.DataFrame.xs.html)\n",
    "    * [Dokumentasi `.stack()`](https://pandas.pydata.org/docs/reference/api/pandas.DataFrame.stack.html)\n",
    "    * [Dokumentasi `.unstack()`](https://pandas.pydata.org/docs/reference/api/pandas.DataFrame.unstack.html)\n",
    "    * [Dokumentasi `.pivot()`](https://pandas.pydata.org/docs/reference/api/pandas.DataFrame.pivot.html)\n",
    "    * [Dokumentasi `.plot()`](https://pandas.pydata.org/docs/reference/api/pandas.DataFrame.plot.html)\n",
    "* Dokumentasi Resmi\n",
    "    * [Pandas](https://pandas.pydata.org/)\n",
    "    * [Matplotlib](https://matplotlib.org/)\n",
    "    * [Seaborn](https://seaborn.pydata.org/)\n",
    "    * [Plotly](https://plotly.com/)\n",
    "    * [Altair](https://altair-viz.github.io/)\n",
    "* From Algoritma\n",
    "    * [AskAlgo Python](https://askalgo-py.netlify.app/)"
   ]
  },
  {
   "cell_type": "markdown",
   "metadata": {},
   "source": [
    "# Inclass Questions"
   ]
  },
  {
   "cell_type": "markdown",
   "metadata": {},
   "source": [
    "* **Q: Fungsi `.xs()` apakah bisa mengambil data tertentu, seperti ADRO.JK hanya High dan Low, BBRI.JK hanya High, Low, dan Close dalam sekali `.xs()`? Apakah subsetting dengan `[]` ada kelebihannya dibanding `.xs()`?**"
   ]
  },
  {
   "cell_type": "markdown",
   "metadata": {},
   "source": [
    "Sayangnya, tidak sepenuhnya bisa. Fungsi `.xs()` hanya memungkinkan pengambilan data berdasarkan satu level indeks pada satu waktu. Jika kita ingin memilih kombinasi spesifik dari beberapa level, seperti ADRO.JK dan BBRI.JK dengan kolom tertentu, diperlukan beberapa pemanggilan `.xs()` dan penggabungan hasilnya.\n",
    " \n",
    "Dengan **`loc`**, kita bisa langsung memilih kolom spesifik dalam satu langkah dengan lebih sederhana dan fleksibel.\n",
    "\n",
    "**Contoh Kode**:\n",
    "```python\n",
    "stock.loc[:, [\n",
    "    ('ADRO.JK', 'High'),\n",
    "    ('ADRO.JK', 'Low'),\n",
    "    ('BBRI.JK', 'High'),\n",
    "    ('BBRI.JK', 'Low'),\n",
    "    ('BBRI.JK', 'Close')\n",
    "]]\n",
    "```  \n",
    "Kode ini lebih efisien dibandingkan menggunakan `.xs()` berkali-kali."
   ]
  },
  {
   "cell_type": "code",
   "execution_count": 44,
   "metadata": {},
   "outputs": [
    {
     "data": {
      "text/html": [
       "<div>\n",
       "<style scoped>\n",
       "    .dataframe tbody tr th:only-of-type {\n",
       "        vertical-align: middle;\n",
       "    }\n",
       "\n",
       "    .dataframe tbody tr th {\n",
       "        vertical-align: top;\n",
       "    }\n",
       "\n",
       "    .dataframe thead tr th {\n",
       "        text-align: left;\n",
       "    }\n",
       "\n",
       "    .dataframe thead tr:last-of-type th {\n",
       "        text-align: right;\n",
       "    }\n",
       "</style>\n",
       "<table border=\"1\" class=\"dataframe\">\n",
       "  <thead>\n",
       "    <tr>\n",
       "      <th>Attributes</th>\n",
       "      <th>High</th>\n",
       "      <th>Low</th>\n",
       "      <th>High</th>\n",
       "      <th>Low</th>\n",
       "      <th>Close</th>\n",
       "    </tr>\n",
       "    <tr>\n",
       "      <th>Symbols</th>\n",
       "      <th>ADRO.JK</th>\n",
       "      <th>ADRO.JK</th>\n",
       "      <th>BBRI.JK</th>\n",
       "      <th>BBRI.JK</th>\n",
       "      <th>BBRI.JK</th>\n",
       "    </tr>\n",
       "    <tr>\n",
       "      <th>Date</th>\n",
       "      <th></th>\n",
       "      <th></th>\n",
       "      <th></th>\n",
       "      <th></th>\n",
       "      <th></th>\n",
       "    </tr>\n",
       "  </thead>\n",
       "  <tbody>\n",
       "    <tr>\n",
       "      <th>2018-01-01</th>\n",
       "      <td>1,860.000</td>\n",
       "      <td>1,860.000</td>\n",
       "      <td>3,309.034</td>\n",
       "      <td>3,309.034</td>\n",
       "      <td>3,309.034</td>\n",
       "    </tr>\n",
       "    <tr>\n",
       "      <th>2018-01-02</th>\n",
       "      <td>1,900.000</td>\n",
       "      <td>1,865.000</td>\n",
       "      <td>3,381.760</td>\n",
       "      <td>3,281.761</td>\n",
       "      <td>3,299.943</td>\n",
       "    </tr>\n",
       "    <tr>\n",
       "      <th>2018-01-03</th>\n",
       "      <td>1,890.000</td>\n",
       "      <td>1,810.000</td>\n",
       "      <td>3,299.943</td>\n",
       "      <td>3,236.308</td>\n",
       "      <td>3,281.761</td>\n",
       "    </tr>\n",
       "    <tr>\n",
       "      <th>2018-01-04</th>\n",
       "      <td>1,935.000</td>\n",
       "      <td>1,850.000</td>\n",
       "      <td>3,281.761</td>\n",
       "      <td>3,145.400</td>\n",
       "      <td>3,227.217</td>\n",
       "    </tr>\n",
       "    <tr>\n",
       "      <th>2018-01-05</th>\n",
       "      <td>1,990.000</td>\n",
       "      <td>1,935.000</td>\n",
       "      <td>3,263.580</td>\n",
       "      <td>3,199.945</td>\n",
       "      <td>3,263.580</td>\n",
       "    </tr>\n",
       "    <tr>\n",
       "      <th>...</th>\n",
       "      <td>...</td>\n",
       "      <td>...</td>\n",
       "      <td>...</td>\n",
       "      <td>...</td>\n",
       "      <td>...</td>\n",
       "    </tr>\n",
       "    <tr>\n",
       "      <th>2023-12-21</th>\n",
       "      <td>2,610.000</td>\n",
       "      <td>2,570.000</td>\n",
       "      <td>5,600.000</td>\n",
       "      <td>5,525.000</td>\n",
       "      <td>5,575.000</td>\n",
       "    </tr>\n",
       "    <tr>\n",
       "      <th>2023-12-22</th>\n",
       "      <td>2,610.000</td>\n",
       "      <td>2,580.000</td>\n",
       "      <td>5,700.000</td>\n",
       "      <td>5,600.000</td>\n",
       "      <td>5,675.000</td>\n",
       "    </tr>\n",
       "    <tr>\n",
       "      <th>2023-12-27</th>\n",
       "      <td>2,630.000</td>\n",
       "      <td>2,580.000</td>\n",
       "      <td>5,725.000</td>\n",
       "      <td>5,625.000</td>\n",
       "      <td>5,625.000</td>\n",
       "    </tr>\n",
       "    <tr>\n",
       "      <th>2023-12-28</th>\n",
       "      <td>2,610.000</td>\n",
       "      <td>2,560.000</td>\n",
       "      <td>5,750.000</td>\n",
       "      <td>5,675.000</td>\n",
       "      <td>5,725.000</td>\n",
       "    </tr>\n",
       "    <tr>\n",
       "      <th>2023-12-29</th>\n",
       "      <td>2,430.000</td>\n",
       "      <td>2,370.000</td>\n",
       "      <td>5,750.000</td>\n",
       "      <td>5,675.000</td>\n",
       "      <td>5,725.000</td>\n",
       "    </tr>\n",
       "  </tbody>\n",
       "</table>\n",
       "<p>1493 rows × 5 columns</p>\n",
       "</div>"
      ],
      "text/plain": [
       "Attributes      High       Low      High       Low     Close\n",
       "Symbols      ADRO.JK   ADRO.JK   BBRI.JK   BBRI.JK   BBRI.JK\n",
       "Date                                                        \n",
       "2018-01-01 1,860.000 1,860.000 3,309.034 3,309.034 3,309.034\n",
       "2018-01-02 1,900.000 1,865.000 3,381.760 3,281.761 3,299.943\n",
       "2018-01-03 1,890.000 1,810.000 3,299.943 3,236.308 3,281.761\n",
       "2018-01-04 1,935.000 1,850.000 3,281.761 3,145.400 3,227.217\n",
       "2018-01-05 1,990.000 1,935.000 3,263.580 3,199.945 3,263.580\n",
       "...              ...       ...       ...       ...       ...\n",
       "2023-12-21 2,610.000 2,570.000 5,600.000 5,525.000 5,575.000\n",
       "2023-12-22 2,610.000 2,580.000 5,700.000 5,600.000 5,675.000\n",
       "2023-12-27 2,630.000 2,580.000 5,725.000 5,625.000 5,625.000\n",
       "2023-12-28 2,610.000 2,560.000 5,750.000 5,675.000 5,725.000\n",
       "2023-12-29 2,430.000 2,370.000 5,750.000 5,675.000 5,725.000\n",
       "\n",
       "[1493 rows x 5 columns]"
      ]
     },
     "execution_count": 44,
     "metadata": {},
     "output_type": "execute_result"
    }
   ],
   "source": [
    "stock.loc[:,[('High','ADRO.JK'),\n",
    "             ('Low','ADRO.JK'),\n",
    "             ('High','BBRI.JK'),\n",
    "             ('Low','BBRI.JK'),\n",
    "             ('Close','BBRI.JK')]]"
   ]
  }
 ],
 "metadata": {
  "kernelspec": {
   "display_name": "Python 3 (ipykernel)",
   "language": "python",
   "name": "python3"
  },
  "language_info": {
   "codemirror_mode": {
    "name": "ipython",
    "version": 3
   },
   "file_extension": ".py",
   "mimetype": "text/x-python",
   "name": "python",
   "nbconvert_exporter": "python",
   "pygments_lexer": "ipython3",
   "version": "3.12.7"
  }
 },
 "nbformat": 4,
 "nbformat_minor": 4
}
